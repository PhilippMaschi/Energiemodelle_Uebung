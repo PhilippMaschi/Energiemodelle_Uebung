{
 "cells": [
  {
   "cell_type": "markdown",
   "metadata": {},
   "source": [
    "# Aufgabe 3"
   ]
  },
  {
   "cell_type": "markdown",
   "metadata": {},
   "source": [
    "## 3.1 Fossile Erzeugung"
   ]
  },
  {
   "cell_type": "markdown",
   "metadata": {},
   "source": [
    "Es wird der kostenminimale Einsatz der Kraftwerke sowie die Gesamtkosten der Stromversorgung und die THG Emissionen berechnet. Die Zielfunktion ergibt sich zu: <br>\n",
    "$$ min \\sum P_{KKt}\\ MC_{KK} + P_{GuDt} \\ MC_{GuD} + P_{Gt} \\ MC_{G} $$\n",
    "mit $P$ als Leistung und $MC$ den Grenzkosten der jeweiligen Kraftwerke. "
   ]
  },
  {
   "cell_type": "code",
   "execution_count": 1,
   "metadata": {},
   "outputs": [],
   "source": [
    "import pyomo.environ as pyo\n",
    "import numpy as np\n",
    "import pandas as pd\n",
    "import matplotlib.pyplot as plt\n",
    "import seaborn as sns\n",
    "%matplotlib inline\n",
    "\n",
    "T = 24\n",
    "timesteps = np.arange(T)\n",
    "\n",
    "c_CO2 = 7 # EUR/tCO2\n",
    "\n",
    "# Marginal costs der thermischen Kraftwerke berechnen\n",
    "thermalPlant = ['Kohle', 'GuD', 'Gasturbine']\n",
    "power = {'Kohle': 600,\n",
    "         'GuD': 400,\n",
    "         'Gasturbine': 300} # MW\n",
    "efficiency = {'Kohle': 0.41,\n",
    "         'GuD': 0.58,\n",
    "         'Gasturbine': 0.4} \n",
    "fuel_price = {'Kohle': 10,\n",
    "         'GuD': 25,\n",
    "         'Gasturbine': 25} # EUR/MWhprim\n",
    "emission_factor = {'Kohle': 0.35,\n",
    "         'GuD': 0.2,\n",
    "         'Gasturbine': 0.2} # tCO2/MWhprim\n",
    "MC = {} # marginal costs in EUR/MWh\n",
    "emissions = {} # emissions in tCO2/MWh\n",
    "for n in thermalPlant:\n",
    "    MC[n] = (fuel_price[n] + emission_factor[n] * c_CO2) / efficiency[n]\n",
    "    emissions[n] = emission_factor[n] / efficiency[n]\n",
    "    \n",
    "# Daten laden\n",
    "df = pd.read_excel('Last_PV_Wind.xlsx')\n",
    "load = df['Last Sommer [MW]'] # hier nach Gruppennummer Sommer/Winter eingeben\n",
    "wind = df['Wind 300 MW']\n",
    "PV_100 = df['PV 100 MW Sommer']\n",
    "\n",
    "# Speicher\n",
    "Q_turb = 200 # MW\n",
    "Q_pump = 200 # MW\n",
    "SOC_max = 600 # MWh\n",
    "SOCstart = 0 # MWh\n",
    "eta_turb = 0.9 \n",
    "eta_pump = 0.9 \n"
   ]
  },
  {
   "cell_type": "code",
   "execution_count": 2,
   "metadata": {},
   "outputs": [],
   "source": [
    "# Pyomo Modell aufstellen\n",
    "\n",
    "model = pyo.ConcreteModel()\n",
    "\n",
    "model.x = pyo.Var(thermalPlant, timesteps, within=pyo.NonNegativeReals)\n",
    "model.dual = pyo.Suffix(direction=pyo.Suffix.IMPORT)\n",
    "\n",
    "# Zielfunktion\n",
    "def zielfunktion(model):\n",
    "    return sum(model.x[n, t] * MC[n] for n in thermalPlant for t in timesteps)\n",
    "               \n",
    "model.obj = pyo.Objective(rule=zielfunktion, \n",
    "                          sense=pyo.minimize)\n",
    "\n",
    "def power_constraint_rule(model, n, t):    \n",
    "   return model.x[n,t] <= power[n]\n",
    "model.power_con = pyo.Constraint(thermalPlant, \n",
    "                             timesteps, \n",
    "                             rule = power_constraint_rule)\n",
    "\n",
    "def load_constraint_rule(model, t):    \n",
    "   return sum(model.x[n,t] for n in thermalPlant) == load.loc[t]\n",
    "model.load_con = pyo.Constraint(timesteps, \n",
    "                            rule = load_constraint_rule)\n",
    "\n",
    "opt = pyo.SolverFactory('gurobi')\n",
    "opt_success = opt.solve(model)\n",
    "\n",
    "#model.display()\n",
    "\n",
    "# get values of optimization variables\n",
    "PowerThermal = pd.DataFrame(index = timesteps, columns = thermalPlant)\n",
    "for t in timesteps:\n",
    "    for n in thermalPlant:\n",
    "        PowerThermal.loc[t, n] = model.x[n,t].value"
   ]
  },
  {
   "cell_type": "markdown",
   "metadata": {},
   "source": [
    "b) Graphische Darstellung:"
   ]
  },
  {
   "cell_type": "code",
   "execution_count": 3,
   "metadata": {},
   "outputs": [
    {
     "data": {
      "image/png": "[encoded data removed]",
      "text/plain": [
       "<Figure size 432x288 with 1 Axes>"
      ]
     },
     "metadata": {
      "needs_background": "light"
     },
     "output_type": "display_data"
    },
    {
     "name": "stdout",
     "output_type": "stream",
     "text": [
      "Die Gesamtkosten der Stromversorgung belaufen sich auf:  667814.61  €\n",
      "Die Gesamtemissionen der Stromerzeugung für diesen Tag betragen 13858.40 t CO2\n"
     ]
    }
   ],
   "source": [
    "# plo\n",
    "fig, ax = plt.subplots()\n",
    "ax.stackplot(timesteps, \n",
    "             PowerThermal.to_numpy(dtype = float).transpose(), \n",
    "             labels=thermalPlant)\n",
    "ax.set_title('Kraftwerkseinsatzplanung')\n",
    "ax.legend(loc='upper left')\n",
    "ax.set_ylabel('Erzeugung [MW]')\n",
    "ax.set_xlim(xmin=timesteps[0], xmax=timesteps[-1])\n",
    "fig.tight_layout()\n",
    "plt.show()\n",
    "print(f\"Die Gesamtkosten der Stromversorgung belaufen sich auf:  {model.obj():.2f}  €\")\n",
    "# Emisionen:\n",
    "GesamtEmissionen = sum(emissions[n] * model.x[n, t].value for t in timesteps for n in thermalPlant)\n",
    "print(f\"Die Gesamtemissionen der Stromerzeugung für diesen Tag betragen {GesamtEmissionen:.2f} t CO2\")"
   ]
  },
  {
   "cell_type": "markdown",
   "metadata": {},
   "source": [
    "c) **Interpretation der Schattenvariable**\n",
    "\n",
    "Im nächsten Schritt sollen die stündlichen Werte der Schattenvariable der Beschränkung der Lastdeckung angegeben werden. Diese Schattenvariable kann interpretiert werden als die maximalen Grenzkosten an, mit der ein Kraftwerk verwendet werden darf.  Diese Kosten geben zur jeweiligen Tagesstunde den \"Market Clearing Price\", also die Grenzkosten des preissetzenden Kraftwerkes an. "
   ]
  },
  {
   "cell_type": "code",
   "execution_count": 4,
   "metadata": {},
   "outputs": [
    {
     "data": {
      "text/html": [
       "<div>\n",
       "<style scoped>\n",
       "    .dataframe tbody tr th:only-of-type {\n",
       "        vertical-align: middle;\n",
       "    }\n",
       "\n",
       "    .dataframe tbody tr th {\n",
       "        vertical-align: top;\n",
       "    }\n",
       "\n",
       "    .dataframe thead th {\n",
       "        text-align: right;\n",
       "    }\n",
       "</style>\n",
       "<table border=\"1\" class=\"dataframe\">\n",
       "  <thead>\n",
       "    <tr style=\"text-align: right;\">\n",
       "      <th></th>\n",
       "      <th>Schattenvariable</th>\n",
       "      <th>load</th>\n",
       "    </tr>\n",
       "  </thead>\n",
       "  <tbody>\n",
       "    <tr>\n",
       "      <th>0</th>\n",
       "      <td>30.3659</td>\n",
       "      <td>600</td>\n",
       "    </tr>\n",
       "    <tr>\n",
       "      <th>1</th>\n",
       "      <td>30.3659</td>\n",
       "      <td>560</td>\n",
       "    </tr>\n",
       "    <tr>\n",
       "      <th>2</th>\n",
       "      <td>30.3659</td>\n",
       "      <td>540</td>\n",
       "    </tr>\n",
       "    <tr>\n",
       "      <th>3</th>\n",
       "      <td>30.3659</td>\n",
       "      <td>530</td>\n",
       "    </tr>\n",
       "    <tr>\n",
       "      <th>4</th>\n",
       "      <td>30.3659</td>\n",
       "      <td>520</td>\n",
       "    </tr>\n",
       "    <tr>\n",
       "      <th>5</th>\n",
       "      <td>30.3659</td>\n",
       "      <td>560</td>\n",
       "    </tr>\n",
       "    <tr>\n",
       "      <th>6</th>\n",
       "      <td>45.5172</td>\n",
       "      <td>660</td>\n",
       "    </tr>\n",
       "    <tr>\n",
       "      <th>7</th>\n",
       "      <td>45.5172</td>\n",
       "      <td>840</td>\n",
       "    </tr>\n",
       "    <tr>\n",
       "      <th>8</th>\n",
       "      <td>45.5172</td>\n",
       "      <td>940</td>\n",
       "    </tr>\n",
       "    <tr>\n",
       "      <th>9</th>\n",
       "      <td>45.5172</td>\n",
       "      <td>980</td>\n",
       "    </tr>\n",
       "    <tr>\n",
       "      <th>10</th>\n",
       "      <td>66</td>\n",
       "      <td>1040</td>\n",
       "    </tr>\n",
       "    <tr>\n",
       "      <th>11</th>\n",
       "      <td>66</td>\n",
       "      <td>1100</td>\n",
       "    </tr>\n",
       "    <tr>\n",
       "      <th>12</th>\n",
       "      <td>66</td>\n",
       "      <td>1070</td>\n",
       "    </tr>\n",
       "    <tr>\n",
       "      <th>13</th>\n",
       "      <td>66</td>\n",
       "      <td>1050</td>\n",
       "    </tr>\n",
       "    <tr>\n",
       "      <th>14</th>\n",
       "      <td>66</td>\n",
       "      <td>1040</td>\n",
       "    </tr>\n",
       "    <tr>\n",
       "      <th>15</th>\n",
       "      <td>66</td>\n",
       "      <td>1030</td>\n",
       "    </tr>\n",
       "    <tr>\n",
       "      <th>16</th>\n",
       "      <td>45.5172</td>\n",
       "      <td>960</td>\n",
       "    </tr>\n",
       "    <tr>\n",
       "      <th>17</th>\n",
       "      <td>45.5172</td>\n",
       "      <td>840</td>\n",
       "    </tr>\n",
       "    <tr>\n",
       "      <th>18</th>\n",
       "      <td>45.5172</td>\n",
       "      <td>820</td>\n",
       "    </tr>\n",
       "    <tr>\n",
       "      <th>19</th>\n",
       "      <td>45.5172</td>\n",
       "      <td>740</td>\n",
       "    </tr>\n",
       "    <tr>\n",
       "      <th>20</th>\n",
       "      <td>45.5172</td>\n",
       "      <td>740</td>\n",
       "    </tr>\n",
       "    <tr>\n",
       "      <th>21</th>\n",
       "      <td>45.5172</td>\n",
       "      <td>720</td>\n",
       "    </tr>\n",
       "    <tr>\n",
       "      <th>22</th>\n",
       "      <td>45.5172</td>\n",
       "      <td>700</td>\n",
       "    </tr>\n",
       "    <tr>\n",
       "      <th>23</th>\n",
       "      <td>45.5172</td>\n",
       "      <td>640</td>\n",
       "    </tr>\n",
       "  </tbody>\n",
       "</table>\n",
       "</div>"
      ],
      "text/plain": [
       "   Schattenvariable  load\n",
       "0           30.3659   600\n",
       "1           30.3659   560\n",
       "2           30.3659   540\n",
       "3           30.3659   530\n",
       "4           30.3659   520\n",
       "5           30.3659   560\n",
       "6           45.5172   660\n",
       "7           45.5172   840\n",
       "8           45.5172   940\n",
       "9           45.5172   980\n",
       "10               66  1040\n",
       "11               66  1100\n",
       "12               66  1070\n",
       "13               66  1050\n",
       "14               66  1040\n",
       "15               66  1030\n",
       "16          45.5172   960\n",
       "17          45.5172   840\n",
       "18          45.5172   820\n",
       "19          45.5172   740\n",
       "20          45.5172   740\n",
       "21          45.5172   720\n",
       "22          45.5172   700\n",
       "23          45.5172   640"
      ]
     },
     "execution_count": 4,
     "metadata": {},
     "output_type": "execute_result"
    }
   ],
   "source": [
    "DualSystem = pd.DataFrame(index = timesteps, columns = ['Schattenvariable'])\n",
    "for t in range(24):\n",
    "    DualSystem.loc[t,'Schattenvariable'] = float(model.dual[model.load_con[t]])\n",
    "DualSystem['load'] = load\n",
    "DualSystem"
   ]
  },
  {
   "cell_type": "markdown",
   "metadata": {},
   "source": [
    "d) Der stündliche Strompreis unter optimalem Wetbewerb ergibt sich aus den Grenzkosten:\n"
   ]
  },
  {
   "cell_type": "code",
   "execution_count": 5,
   "metadata": {},
   "outputs": [
    {
     "data": {
      "image/png": "[encoded data removed]",
      "text/plain": [
       "<Figure size 432x288 with 1 Axes>"
      ]
     },
     "metadata": {
      "needs_background": "light"
     },
     "output_type": "display_data"
    }
   ],
   "source": [
    "strompreis_pro_stunde = []\n",
    "for i in timesteps:\n",
    "    preis = sum(PowerThermal.loc[i, n] * MC[n] for n in thermalPlant)\n",
    "    strompreis_pro_stunde.append(preis)\n",
    "\n",
    "# plot\n",
    "plt.plot(timesteps, strompreis_pro_stunde)\n",
    "plt.title(\"Strompreis pro Stunde\")\n",
    "plt.ylabel(\"Preis in €\")\n",
    "plt.xlabel(\"Zeit in h\")\n",
    "plt.grid()"
   ]
  },
  {
   "cell_type": "markdown",
   "metadata": {},
   "source": [
    "## 3.2 Erneuerbare Erzeugung"
   ]
  },
  {
   "cell_type": "markdown",
   "metadata": {},
   "source": [
    "a) Bei der Erneuerbaren Erzeugung muss der Erneurbare Strom immer abgenommen werden. Darum wird er in diesem Beispiel gleich zu Anfang von der Last abgezogen. Zielfunktion und Nebenbedingungen bleiben ident zu 3.1."
   ]
  },
  {
   "cell_type": "code",
   "execution_count": 6,
   "metadata": {},
   "outputs": [
    {
     "name": "stdout",
     "output_type": "stream",
     "text": [
      "        0.01 seconds required to write file\n",
      "        0.01 seconds required for presolve\n",
      "        0.23 seconds required for solver\n",
      "        0.00 seconds required to read logfile \n",
      "        0.00 seconds required to read solution file \n",
      "        0.01 seconds required for postsolve\n"
     ]
    }
   ],
   "source": [
    "# Erneurbare müssen abgenommen werden: load - wind - PV 100 c\n",
    "load_new = load - wind - PV_100 \n",
    "load_new[load_new < 0] = 0\n",
    "model = pyo.ConcreteModel()\n",
    "\n",
    "model.x = pyo.Var(thermalPlant, timesteps, within=pyo.NonNegativeReals)\n",
    "#model.schattenvar = pyo.Suffix()\n",
    "\n",
    "# Zielfunktion\n",
    "def zielfunktion(model):\n",
    "    return sum(model.x[n, t] * MC[n] for n in thermalPlant for t in timesteps)\n",
    "               \n",
    "model.obj = pyo.Objective(rule=zielfunktion, \n",
    "                          sense=pyo.minimize)\n",
    "\n",
    "def power_constraint_rule(model, n, t):    \n",
    "   return model.x[n,t] <= power[n]\n",
    "model.power_con = pyo.Constraint(thermalPlant, \n",
    "                             timesteps, \n",
    "                             rule = power_constraint_rule)\n",
    "\n",
    "def load_constraint_rule(model, t):    \n",
    "   return sum(model.x[n,t] for n in thermalPlant) == load_new.loc[t]\n",
    "model.load_con = pyo.Constraint(timesteps, \n",
    "                            rule = load_constraint_rule)\n",
    "\n",
    "opt = pyo.SolverFactory('gurobi')\n",
    "opt_success = opt.solve(model, report_timing=True)\n",
    "\n",
    "#model.display()"
   ]
  },
  {
   "cell_type": "markdown",
   "metadata": {},
   "source": [
    "b)"
   ]
  },
  {
   "cell_type": "code",
   "execution_count": 7,
   "metadata": {},
   "outputs": [
    {
     "data": {
      "image/png": "[encoded data removed]",
      "text/plain": [
       "<Figure size 432x288 with 1 Axes>"
      ]
     },
     "metadata": {
      "needs_background": "light"
     },
     "output_type": "display_data"
    },
    {
     "name": "stdout",
     "output_type": "stream",
     "text": [
      "Die Gesamtkosten der Stromversorgung belaufen sich auf: 520704.52 €\n",
      "Die Gesamtemissionen der Stromerzeugung für diesen Tag betragen 12132.18 t CO2\n"
     ]
    }
   ],
   "source": [
    "# get values of optimization variables\n",
    "PowerThermalandRenewable = pd.DataFrame(index = timesteps, \n",
    "                                        columns = ['Kohle', \n",
    "                                                   'GuD', \n",
    "                                                   'Gasturbine', \n",
    "                                                   'Erneuerbar']\n",
    "                                        )\n",
    "for t in timesteps:\n",
    "    PowerThermalandRenewable.loc[t, 'Erneuerbar'] = wind[t] + PV_100[t] \n",
    "    for n in thermalPlant:\n",
    "        PowerThermalandRenewable.loc[t, n] = model.x[n,t].value\n",
    "\n",
    "fig, ax = plt.subplots()\n",
    "ax.stackplot(timesteps, \n",
    "              PowerThermalandRenewable.to_numpy(dtype = float).transpose(), \n",
    "              labels=['Kohle', 'GuD', 'Gasturbine', 'Erneuerbar'])\n",
    "ax.set_title('Kraftwerkseinsatzplanung')\n",
    "ax.legend(loc='upper left')\n",
    "ax.set_ylabel('Erzeugung [MW]')\n",
    "ax.set_xlim(xmin=timesteps[0], xmax=timesteps[-1])\n",
    "fig.tight_layout()\n",
    "plt.show()\n",
    "print(\"Die Gesamtkosten der Stromversorgung belaufen sich auf: \" + str(round(model.obj(), 2)) + \" €\")\n",
    "# Emisionen:\n",
    "GesamtEmissionen = sum(emissions[n] * model.x[n, t].value for t in timesteps for n in thermalPlant)\n",
    "print(\"Die Gesamtemissionen der Stromerzeugung für diesen Tag betragen \"+str(round(GesamtEmissionen,2))+\" t CO2\")"
   ]
  },
  {
   "cell_type": "markdown",
   "metadata": {},
   "source": [
    "c)"
   ]
  },
  {
   "cell_type": "code",
   "execution_count": 8,
   "metadata": {},
   "outputs": [
    {
     "data": {
      "image/png": "[encoded data removed]",
      "text/plain": [
       "<Figure size 432x288 with 2 Axes>"
      ]
     },
     "metadata": {
      "needs_background": "light"
     },
     "output_type": "display_data"
    }
   ],
   "source": [
    "strompreis_pro_stunde = []\n",
    "for i in timesteps:\n",
    "    preis = sum(PowerThermalandRenewable.loc[i, n] * MC[n] for n in thermalPlant)\n",
    "    strompreis_pro_stunde.append(preis)\n",
    "\n",
    "# plot\n",
    "fig = plt.figure()\n",
    "ax = plt.gca()\n",
    "ax2 = ax.twinx()\n",
    "ax.plot(timesteps, strompreis_pro_stunde/load, color=\"blue\")\n",
    "ax.set_title(\"Strompreis pro Stunde\")\n",
    "ax.set_ylabel(\"Preis in €/MWh\")\n",
    "ax2.plot(timesteps, strompreis_pro_stunde, color=\"red\")\n",
    "ax2.set_ylabel(\"Preis in €\")\n",
    "ax.set_xlabel(\"Zeit in h\")\n",
    "ax.yaxis.label.set_color('blue')\n",
    "ax2.yaxis.label.set_color('red')\n",
    "plt.grid()"
   ]
  },
  {
   "cell_type": "markdown",
   "metadata": {},
   "source": [
    "## 3.3 Speicher"
   ]
  },
  {
   "cell_type": "markdown",
   "metadata": {},
   "source": [
    "In Aufgabe 3.3 sind wieder der kostenminimale Kraftwerkseinsatz sowie die Gesamtkosten und THG-Emissionen inklusive erneuerbarer Erzeugung und als neuen Aspekt inklusive der Speicher zu ermitteln und mathematisch darzustellen. Weiters sind die Emissionen im Vergleich zum Fall ohne Speicher sowie ohne EE zu analaysieren und die stündlichen Strompreise darzustellen. "
   ]
  },
  {
   "cell_type": "markdown",
   "metadata": {},
   "source": [
    "3.3 a)\n",
    "Es werden der kostenminimale Kraftwerkseinsatz und die Gesamtkosten und THG-Emissionen inklusive erneuerbarer Erzeugung und Speicher dargestellt.\n",
    "Wir haben angenommen, dass der Speicher am Anfang sowie am Ende der Periode leer ist.\n",
    "Der kostenminimale Kraftwerkseinsatz wird unterhalb dargestellt."
   ]
  },
  {
   "cell_type": "code",
   "execution_count": 9,
   "metadata": {
    "tags": []
   },
   "outputs": [
    {
     "name": "stdout",
     "output_type": "stream",
     "text": [
      "        0.01 seconds required to write file\n",
      "        0.01 seconds required for presolve\n",
      "        0.22 seconds required for solver\n",
      "        0.00 seconds required to read logfile \n",
      "        0.00 seconds required to read solution file \n",
      "        0.01 seconds required for postsolve\n"
     ]
    }
   ],
   "source": [
    "# Speicher inkludiert, Erneuerbare müssen abgenommen werden: load - wind - PV 100 \n",
    "load_new = load - wind - PV_100 \n",
    "load_new[load_new < 0] = 0\n",
    "model = pyo.ConcreteModel()\n",
    "\n",
    "model.x = pyo.Var(thermalPlant, timesteps, within=pyo.NonNegativeReals)\n",
    "model.q_turb = pyo.Var(timesteps, bounds = (0, Q_turb))\n",
    "model.q_pump = pyo.Var(timesteps, bounds = (0, Q_pump))\n",
    "model.SOC = pyo.Var(timesteps, bounds = (0, SOC_max))\n",
    "\n",
    "#model.storage = pyo.Var(storage, timesteps)\n",
    "#model.schattenvar = pyo.Suffix()\n",
    "\n",
    "# Zielfunktion\n",
    "def zielfunktion(model):\n",
    "    return sum(model.x[n, t] * MC[n] for n in thermalPlant for t in timesteps)\n",
    "               \n",
    "model.obj = pyo.Objective(rule=zielfunktion, \n",
    "                          sense=pyo.minimize)\n",
    "\n",
    "def power_constraint_rule(model, n, t):    \n",
    "   return model.x[n,t] <= power[n]\n",
    "model.power_con = pyo.Constraint(thermalPlant, \n",
    "                             timesteps, \n",
    "                             rule = power_constraint_rule)\n",
    "\n",
    "def load_constraint_rule(model, t):    \n",
    "   return sum(model.x[n,t] for n in thermalPlant) == (load_new.loc[t] + model.q_pump[t] - model.q_turb[t])\n",
    "model.load_con = pyo.Constraint(timesteps, \n",
    "                            rule = load_constraint_rule)\n",
    "\n",
    "# q_turb\n",
    "def qturb_constraint_rule(model, t):  \n",
    "   return model.q_turb[t] <= model.SOC[t-1]\n",
    "\n",
    "model.qturb_init_con = pyo.Constraint(\n",
    "        expr = (model.q_turb[0] <= SOCstart))\n",
    "\n",
    "model.qturb_con = pyo.Constraint(timesteps[1:], rule = qturb_constraint_rule)\n",
    "\n",
    "# SOC\n",
    "def SOC_constraint_rule(model, t):  \n",
    "   return (model.SOC[t-1] \n",
    "           + model.q_pump[t]*eta_pump \n",
    "           - model.q_turb[t]/eta_turb \n",
    "           - model.SOC[t] == 0)\n",
    "\n",
    "# Storage equation\n",
    "model.SOC_init_con = pyo.Constraint(\n",
    "        expr = (SOCstart \n",
    "                + model.q_pump[0]*eta_pump \n",
    "                - model.q_turb[0]/eta_turb \n",
    "                - model.SOC[0] == 0))\n",
    "\n",
    "model.SOC_con = pyo.Constraint(timesteps[1:], \n",
    "                           rule = SOC_constraint_rule)\n",
    "\n",
    "model.SOC_end_con = pyo.Constraint(\n",
    "        expr = (model.SOC[T-1] == SOCstart))                           \n",
    "\n",
    "\n",
    "opt = pyo.SolverFactory('gurobi')\n",
    "opt_success = opt.solve(model, report_timing=True)\n",
    "\n",
    "#model.display()"
   ]
  },
  {
   "cell_type": "code",
   "execution_count": 10,
   "metadata": {},
   "outputs": [
    {
     "data": {
      "image/png": "[encoded data removed]",
      "text/plain": [
       "<Figure size 432x288 with 1 Axes>"
      ]
     },
     "metadata": {
      "needs_background": "light"
     },
     "output_type": "display_data"
    },
    {
     "name": "stdout",
     "output_type": "stream",
     "text": [
      "Die Gesamtkosten der Stromversorgung belaufen sich auf: 516369.12 €\n",
      "Die Gesamtemissionen der Stromerzeugung für diesen Tag betragen 12515.08 t CO2\n"
     ]
    }
   ],
   "source": [
    "# get values of optimization variables\n",
    "PowerThermalandRenewableandStorage = pd.DataFrame(index = timesteps, \n",
    "                                        columns = ['Kohle', \n",
    "                                                   'GuD', \n",
    "                                                   'Gasturbine', \n",
    "                                                   'Erneuerbar',\n",
    "                                                   'Pumpen',\n",
    "                                                   'Turbinieren']\n",
    "                                        )\n",
    "for t in timesteps:\n",
    "    PowerThermalandRenewableandStorage.loc[t, 'Erneuerbar'] = wind[t] + PV_100[t] \n",
    "    PowerThermalandRenewableandStorage.loc[t, 'Pumpen'] = model.q_pump[t].value\n",
    "    PowerThermalandRenewableandStorage.loc[t, 'Turbinieren'] = model.q_turb[t].value\n",
    "    for n in thermalPlant:\n",
    "        PowerThermalandRenewableandStorage.loc[t, n] = model.x[n,t].value\n",
    "\n",
    "fig, ax = plt.subplots()\n",
    "ax.stackplot(timesteps, \n",
    "              PowerThermalandRenewableandStorage.to_numpy(dtype = float).transpose(), \n",
    "              labels=['Kohle', 'GuD', 'Gasturbine', 'Erneuerbar', 'Pumpen', 'Turbinieren'])\n",
    "ax.set_title('Kraftwerkseinsatzplanung')\n",
    "ax.legend(loc='upper right')\n",
    "ax.set_ylabel('Erzeugung [MW]')\n",
    "ax.set_xlim(xmin=timesteps[0], xmax=timesteps[-1])\n",
    "fig.tight_layout()\n",
    "plt.show()\n",
    "\n",
    "print(f\"Die Gesamtkosten der Stromversorgung belaufen sich auf: {model.obj():.2f} €\")\n",
    "# Emisionen:\n",
    "GesamtEmissionen = sum(emissions[n] * model.x[n, t].value for t in timesteps for n in thermalPlant)\n",
    "print(f\"Die Gesamtemissionen der Stromerzeugung für diesen Tag betragen {GesamtEmissionen:.2f} t CO2\")"
   ]
  },
  {
   "cell_type": "markdown",
   "metadata": {},
   "source": [
    "3.3 b) Das mathematische Modell inkl. Speicher sieht folgendermaßen aus: \n",
    "\n",
    "**Zielfunktion**\n",
    "\n",
    "$minimize \\ C = \\sum \\limits _{t=1} ^{24} P_{KKt}\\ MC_{KK} + P_{GuDt} \\ MC_{GuD} + P_{Gt} \\ MC_{G}$\n",
    "\n",
    "**Nebenbedingungen**\n",
    "\n",
    "$ Last_{t} = P_{KKt} + P_{GuDt} + P_{Gt} + P_{Windt} + P_{PVt} - q_{pumpt} + q_{turbt}  \\ für \\ t = 0,1,...,23. $  \n",
    "\n",
    "$ 0 \\le P_{KKt} \\le 600,$  \n",
    "$ 0 \\le P_{GuDt} \\le 400,$  \n",
    "$ 0 \\le P_{Gt} \\le 300,$  \n",
    "$ 0 \\le q \\le 200,$   \n",
    "$ 0 \\le SOC_{t} \\le 600 \\ für  \\ t = 0,1,...,23.$   \n",
    "\n",
    "$ SOC_{0} = 0 \\ and \\ SOC_{24} = 0 $  \n",
    "\n",
    "$ Q_{turbt} \\le SOC_{t-1} \\ für  \\ t = 1,2,...,23.$ \n",
    "\n",
    "$ SOC_{t} = SOC_{t-1} + q_{pumpt} * \\eta_{pump} - q_{turbt}/\\eta_{turb} \\ für  \\ t = 1,2,...,23.$ \n",
    "\n",
    "\n",
    "Variablen:  \n",
    "KK = Kohle  \n",
    "GuD = Gas und Dampf  \n",
    "G = Gas   \n",
    "P = Leistung  \n",
    "MC = kurzfristige Grenzkosten  \n",
    "L = Last  \n",
    "q = Leistung pumpen/turbinieren  \n",
    "SOC = Speicherstand (state of charge)  \n",
    "$\\eta$ = Effizienz\n",
    "\n",
    "\n"
   ]
  },
  {
   "cell_type": "markdown",
   "metadata": {},
   "source": [
    "3.3 c) Durch den Speicherbetrieb erhöhen sich die Gesamtemissionen. Da in unserem Modell lediglich hinischtlich der Kosten optimiert wird, wird die Stromerzeugung des Pumpspeicherkraftwerks in Stunden verlegt in denen sonst mit emissionsärmere GuD Kraftwerke erzeugt werden würden. Die Turbinierung erfolgt in Stunden in denen mit Kohle produziert wird.  \n",
    "In der Realität müsste die Emissionskomponente im Modell berücksichtigt werden, da es nicht zielführend ist höhere Kohlekapazitäten in Anspruch zu nehmen. "
   ]
  },
  {
   "cell_type": "markdown",
   "metadata": {},
   "source": [
    "3.3 d) Die Änderung der stündlichen Strompreise ist in untenstehender Grafik dargestellt. "
   ]
  },
  {
   "cell_type": "code",
   "execution_count": 11,
   "metadata": {},
   "outputs": [
    {
     "data": {
      "image/png": "[encoded data removed]",
      "text/plain": [
       "<Figure size 432x288 with 2 Axes>"
      ]
     },
     "metadata": {
      "needs_background": "light"
     },
     "output_type": "display_data"
    }
   ],
   "source": [
    "strompreis_pro_stunde = []\n",
    "pump_last = []\n",
    "for i in timesteps:\n",
    "    preis = sum(PowerThermalandRenewableandStorage.loc[i, n] * MC[n] for n in thermalPlant)\n",
    "    strompreis_pro_stunde.append(preis)\n",
    "    pump_last.append(model.q_pump[i].value)\n",
    "\n",
    "# plot\n",
    "fig = plt.figure()\n",
    "ax = plt.gca()\n",
    "ax2 = ax.twinx()\n",
    "ax.plot(timesteps, strompreis_pro_stunde/(load + pump_last), color=\"blue\")\n",
    "ax.set_title(\"Strompreis pro Stunde\")\n",
    "ax.set_ylabel(\"Preis in €/MWh\")\n",
    "ax2.plot(timesteps, strompreis_pro_stunde, color=\"red\")\n",
    "ax2.set_ylabel(\"Preis in €\")\n",
    "ax.set_xlabel(\"Zeit in h\")\n",
    "ax.yaxis.label.set_color('blue')\n",
    "ax2.yaxis.label.set_color('red')\n",
    "plt.grid()"
   ]
  },
  {
   "cell_type": "markdown",
   "metadata": {},
   "source": [
    "3.3 e)\n",
    "\n",
    "| Modell                | Gesamtkosten (€) | Gesamtemissionen (t CO2) |\n",
    "|-----------------------|------------------|--------------------------|\n",
    "| Fossile Erzeugung     | 667814.61        | 13858.4                  |\n",
    "| Erneuerbare Erzeugung | 520704.52        | 12132.18                 |\n",
    "| Inklusive Speicher    | 516369.12        | 12515.08                 |\n",
    "\n",
    "Es ist zu sehen, dass die Gesamtkosten bei fossiler Erzeugung am höchsten sind. Durch die Integration von EE und Speicher können die Kosten gesenkt werden.\n",
    "Hinsichtlich der Emissionen ist zu sehen, dass diese durch die Integration der EE sinken jedoch durch den Einsatz des Speichers aus den in 3.3 c genannten Gründen wieder steigen. "
   ]
  },
  {
   "cell_type": "markdown",
   "metadata": {},
   "source": [
    "## 3.4 Kosten vs. Emissionen"
   ]
  },
  {
   "cell_type": "markdown",
   "metadata": {},
   "source": [
    "3.4 a)\n",
    "Nun werden nicht mehr die Gesamtkosten minimiert, sondern die Gesamtemissionen. Dazu werden die obigen Modelle der thermalen und erneuerbaren Stromerzeugen ohne (1) und mit (2) Speicher betrachtet. Um eine minimierung der Gesamtemissionen zu erzielen muss dazu die Zielfunktion der Optimierungsmodelle geändert werden. Im ersten Schritt wurde die Minimierung der Gesamtemissionen für Punkt (1) durchgeführt. Die Ergebnisse für die Minimierung werden gleich anschließend gezeigt. "
   ]
  },
  {
   "cell_type": "code",
   "execution_count": 12,
   "metadata": {},
   "outputs": [
    {
     "name": "stdout",
     "output_type": "stream",
     "text": [
      "        0.01 seconds required to write file\n",
      "        0.01 seconds required for presolve\n",
      "        0.22 seconds required for solver\n",
      "        0.00 seconds required to read logfile \n",
      "        0.00 seconds required to read solution file \n",
      "        0.01 seconds required for postsolve\n"
     ]
    }
   ],
   "source": [
    "# Erneurbare müssen abgenommen werden: load - wind - PV 100 \n",
    "load_new = load - wind - PV_100 \n",
    "\n",
    "model = pyo.ConcreteModel()\n",
    "\n",
    "model.x = pyo.Var(thermalPlant, timesteps, within=pyo.NonNegativeReals)\n",
    "#model.schattenvar = pyo.Suffix()\n",
    "\n",
    "# Zielfunktion\n",
    "def zielfunktion(model):\n",
    "    return sum(model.x[n, t] * emissions[n] for n in thermalPlant for t in timesteps)\n",
    "               \n",
    "model.obj = pyo.Objective(rule=zielfunktion, \n",
    "                          sense=pyo.minimize)\n",
    "\n",
    "def power_constraint_rule(model, n, t):    \n",
    "   return model.x[n,t] <= power[n]\n",
    "model.power_con = pyo.Constraint(thermalPlant, \n",
    "                             timesteps, \n",
    "                             rule = power_constraint_rule)\n",
    "\n",
    "def load_constraint_rule(model, t):    \n",
    "   return sum(model.x[n,t] for n in thermalPlant) == load_new.loc[t]\n",
    "model.load_con = pyo.Constraint(timesteps, \n",
    "                            rule = load_constraint_rule)\n",
    "\n",
    "opt = pyo.SolverFactory('gurobi')\n",
    "opt_success = opt.solve(model, report_timing=True)\n",
    "\n",
    "#model.display()"
   ]
  },
  {
   "cell_type": "code",
   "execution_count": 13,
   "metadata": {},
   "outputs": [
    {
     "data": {
      "image/png": "[encoded data removed]",
      "text/plain": [
       "<Figure size 432x288 with 1 Axes>"
      ]
     },
     "metadata": {
      "needs_background": "light"
     },
     "output_type": "display_data"
    },
    {
     "name": "stdout",
     "output_type": "stream",
     "text": [
      "Die Gesamtkosten der Stromversorgung belaufen sich auf: 797793.51 €\n",
      "Die Gesamtemissionen der Stromerzeugung für diesen Tag betragen 6901.97 t CO2\n"
     ]
    }
   ],
   "source": [
    "# get values of optimization variables\n",
    "PowerThermalandRenewable = pd.DataFrame(index = timesteps, \n",
    "                                        columns = ['Kohle', \n",
    "                                                   'GuD', \n",
    "                                                   'Gasturbine', \n",
    "                                                   'Erneuerbar']\n",
    "                                        )\n",
    "for t in timesteps:\n",
    "    PowerThermalandRenewable.loc[t, 'Erneuerbar'] = wind[t] + PV_100[t] \n",
    "    for n in thermalPlant:\n",
    "        PowerThermalandRenewable.loc[t, n] = model.x[n,t].value\n",
    "\n",
    "fig, ax = plt.subplots()\n",
    "ax.stackplot(timesteps, \n",
    "              PowerThermalandRenewable.to_numpy(dtype = float).transpose(), \n",
    "              labels=['Kohle', 'GuD', 'Gasturbine', 'Erneuerbar'])\n",
    "ax.set_title('Kraftwerkseinsatzplanung')\n",
    "ax.legend(loc='upper left')\n",
    "ax.set_ylabel('Erzeugung [MW]')\n",
    "ax.set_xlim(xmin=timesteps[0], xmax=timesteps[-1])\n",
    "fig.tight_layout()\n",
    "plt.show()\n",
    "# Gesamtkosten\n",
    "GesamtKosten = sum(model.x[n,t].value * MC[n] for t in timesteps for n in thermalPlant)\n",
    "print(\"Die Gesamtkosten der Stromversorgung belaufen sich auf: \" + str(round(GesamtKosten, 2)) + \" €\")\n",
    "# Emissionen:\n",
    "GesamtEmissionen = sum(emissions[n] * model.x[n, t].value for t in timesteps for n in thermalPlant)\n",
    "print(\"Die Gesamtemissionen der Stromerzeugung für diesen Tag betragen \"+str(round(GesamtEmissionen,2))+\" t CO2\")"
   ]
  },
  {
   "cell_type": "markdown",
   "metadata": {},
   "source": [
    "In dem obigen Plot erkennt man, dass sich der Anteil an Kohle an der Energieerzeugung im Verlgeich zur Minimierung der Gesamtkosten stark zurückgegangen ist. Dies ist ein logischer Schluss, da Kohle eine Form der günstigen Energieerzeugung darstellt, jedoch den höchsten Austoß an THG verzeichnet.Einen großen Anteil der Energiegewinnung stellt ein Gud-Kraftwerk dar. Dieses erzielt bei einer höhren Leistung einen besseren Wirkungsgrad als die Gasturbine bei gleichbleibendem THG Austoß pro Energieeinheit. Die Gesamtkosten der Stromversorgung stellen hierbei den höchsten Anteil dar, da die Erzeugung von Strom durch GuD und Gasturbine wesentlich teuerer ist, als mit einem Kohlekraftwerk. \n",
    "\n",
    "Im nächsten Schritt wird das selbe Prozedere auf Punkt (2) durchgeführt: "
   ]
  },
  {
   "cell_type": "code",
   "execution_count": 14,
   "metadata": {
    "tags": []
   },
   "outputs": [],
   "source": [
    "# Speicher inkludiert, Erneuerbare müssen abgenommen werden: load - wind - PV 100 \n",
    "load_new = load - wind - PV_100 \n",
    "\n",
    "model = pyo.ConcreteModel()\n",
    "\n",
    "model.x = pyo.Var(thermalPlant, timesteps, within=pyo.NonNegativeReals)\n",
    "model.q_turb = pyo.Var(timesteps, bounds = (0, Q_turb))\n",
    "model.q_pump = pyo.Var(timesteps, bounds = (0, Q_pump))\n",
    "model.SOC = pyo.Var(timesteps, bounds = (0, SOC_max))\n",
    "\n",
    "#model.storage = pyo.Var(storage, timesteps)\n",
    "#model.schattenvar = pyo.Suffix()\n",
    "\n",
    "# Zielfunktion\n",
    "def zielfunktion(model):\n",
    "    return sum(model.x[n, t] * emissions[n] for n in thermalPlant for t in timesteps)\n",
    "               \n",
    "model.obj = pyo.Objective(rule=zielfunktion, \n",
    "                          sense=pyo.minimize)\n",
    "\n",
    "def power_constraint_rule(model, n, t):    \n",
    "   return model.x[n,t] <= power[n]\n",
    "model.power_con = pyo.Constraint(thermalPlant, \n",
    "                             timesteps, \n",
    "                             rule = power_constraint_rule)\n",
    "\n",
    "def load_constraint_rule(model, t):    \n",
    "   return sum(model.x[n,t] for n in thermalPlant) == (load_new.loc[t] + model.q_pump[t] - model.q_turb[t])\n",
    "model.load_con = pyo.Constraint(timesteps, \n",
    "                            rule = load_constraint_rule)\n",
    "\n",
    "# q_turb\n",
    "def qturb_constraint_rule(model, t):  \n",
    "   return model.q_turb[t] <= model.SOC[t-1]\n",
    "\n",
    "model.qturb_init_con = pyo.Constraint(\n",
    "        expr = (model.q_turb[0] <= SOCstart))\n",
    "\n",
    "model.qturb_con = pyo.Constraint(timesteps[1:], rule = qturb_constraint_rule)\n",
    "\n",
    "# SOC\n",
    "def SOC_constraint_rule(model, t):  \n",
    "   return (model.SOC[t-1] \n",
    "           + model.q_pump[t]*eta_pump \n",
    "           - model.q_turb[t]/eta_turb \n",
    "           - model.SOC[t] == 0)\n",
    "\n",
    "# Storage equation\n",
    "model.SOC_init_con = pyo.Constraint(\n",
    "        expr = (SOCstart \n",
    "                + model.q_pump[0]*eta_pump \n",
    "                - model.q_turb[0]/eta_turb \n",
    "                - model.SOC[0] == 0))\n",
    "\n",
    "model.SOC_con = pyo.Constraint(timesteps[1:], \n",
    "                           rule = SOC_constraint_rule)\n",
    "\n",
    "model.SOC_end_con = pyo.Constraint(\n",
    "        expr = (model.SOC[T-1] == SOCstart))                           \n",
    "\n",
    "\n",
    "opt = pyo.SolverFactory('gurobi')\n",
    "opt_success = opt.solve(model, report_timing=False)\n",
    "\n",
    "#model.display()\n"
   ]
  },
  {
   "cell_type": "code",
   "execution_count": 15,
   "metadata": {},
   "outputs": [
    {
     "data": {
      "image/png": "[encoded data removed]",
      "text/plain": [
       "<Figure size 432x288 with 1 Axes>"
      ]
     },
     "metadata": {
      "needs_background": "light"
     },
     "output_type": "display_data"
    },
    {
     "name": "stdout",
     "output_type": "stream",
     "text": [
      "Die Gesamtkosten der Stromversorgung belaufen sich auf: 825395.95 €\n",
      "Die Gesamtemissionen der Stromerzeugung für diesen Tag betragen 6774.33 t CO2\n"
     ]
    }
   ],
   "source": [
    "# get values of optimization variables\n",
    "PowerThermalandRenewableandStorage = pd.DataFrame(index = timesteps, \n",
    "                                        columns = ['Kohle', \n",
    "                                                   'GuD', \n",
    "                                                   'Gasturbine', \n",
    "                                                   'Erneuerbar',\n",
    "                                                   'Pumpen',\n",
    "                                                   'Turbinieren']\n",
    "                                        )\n",
    "for t in timesteps:\n",
    "    PowerThermalandRenewableandStorage.loc[t, 'Erneuerbar'] = wind[t] + PV_100[t] \n",
    "    PowerThermalandRenewableandStorage.loc[t, 'Pumpen'] = model.q_pump[t].value\n",
    "    PowerThermalandRenewableandStorage.loc[t, 'Turbinieren'] = model.q_turb[t].value\n",
    "    for n in thermalPlant:\n",
    "        PowerThermalandRenewableandStorage.loc[t, n] = model.x[n,t].value\n",
    "\n",
    "fig, ax = plt.subplots()\n",
    "ax.stackplot(timesteps, \n",
    "              PowerThermalandRenewableandStorage.to_numpy(dtype = float).transpose(), \n",
    "              labels=['Kohle', 'GuD', 'Gasturbine', 'Erneuerbar', 'Pumpen', 'Turbinieren'])\n",
    "ax.set_title('Kraftwerkseinsatzplanung')\n",
    "ax.legend(loc='upper right')\n",
    "ax.set_ylabel('Erzeugung [MW]')\n",
    "ax.set_xlim(xmin=timesteps[0], xmax=timesteps[-1])\n",
    "fig.tight_layout()\n",
    "plt.show()\n",
    "\n",
    "# Gesamtkosten\n",
    "GesamtKosten = sum(model.x[n,t].value * MC[n] for t in timesteps for n in thermalPlant)\n",
    "print(\"Die Gesamtkosten der Stromversorgung belaufen sich auf: \" + str(round(GesamtKosten, 2)) + \" €\")\n",
    "# Emissionen:\n",
    "GesamtEmissionen = sum(emissions[n] * model.x[n, t].value for t in timesteps for n in thermalPlant)\n",
    "print(\"Die Gesamtemissionen der Stromerzeugung für diesen Tag betragen \"+str(round(GesamtEmissionen,2))+\" t CO2\")"
   ]
  },
  {
   "cell_type": "markdown",
   "metadata": {},
   "source": [
    "Ebenso wie im vorherige Beispiel ist der Anteil der Energieerzeugung durch Kohle wesentlich geringer als bei den Kostenminimierungsbeispielen. In folgender Tabelle sind die Ergebnisse der beiden Modelle nocheinmal gegenübergestellt. \n",
    "\n",
    "| Modell                | Gesamtkosten (€) | Gesamtemissionen (t CO2) |\n",
    "|-----------------------|------------------|--------------------------|\n",
    "| Erneuerbare Erzeugung exkl. Speicher     | 797793.51        | 6901.97                  |\n",
    "| Erneuerbare Erzeugung inkl. Speicher | 825394.95        | 6774.33                 |\n"
   ]
  },
  {
   "cell_type": "markdown",
   "metadata": {},
   "source": [
    "Dabei erkennt man, dass die Gesamtkosten in einem Stromsystem mit einem Speicher höher sind als ohne. Dies liegt an der zusätzlichen Belastung durch die Pumpen. Um diese zu betreiben, muss zusätzlich eine Gasturbine zugeschaltet werden. Die Gesamtemissionen werden dabei geringer, da in Zeiten in denen der Strombedarf übersteigt, kann mit dem turbinieren des Speichers Kohle eingespart werden. Daraus ergeben sich die geringeren Emissionswerte als bei der Erzeugung ohne Speicher. "
   ]
  },
  {
   "cell_type": "markdown",
   "metadata": {},
   "source": [
    "3.4 c)\n",
    "\n",
    "Im nächsten Schritt soll nun die Auswirkung des $CO_2$ Preises auf beide Modelle (Erneuerbare Erzeugung mit und ohne Stromspeicher) unter dem Blickwinkel der Kostenoptimierung untersucht werden. Dabei wird zuerst ausgegangen von einem Preis von 0 $EUR/tCO_2$ und dieser sukzessiv gesteigert."
   ]
  },
  {
   "cell_type": "code",
   "execution_count": 16,
   "metadata": {},
   "outputs": [],
   "source": [
    "GesamtKosten = []\n",
    "GesamtEmissionen = []\n",
    "c_CO2_index = []\n",
    "for c_CO2 in range(0,250,5): \n",
    "\n",
    "    for n in thermalPlant:\n",
    "        MC[n] = (fuel_price[n] + emission_factor[n] * c_CO2) / efficiency[n]\n",
    "\n",
    "    model = pyo.ConcreteModel()\n",
    "\n",
    "    model.x = pyo.Var(thermalPlant, timesteps, within=pyo.NonNegativeReals)\n",
    "    model.q_turb = pyo.Var(timesteps, bounds = (0, Q_turb))\n",
    "    model.q_pump = pyo.Var(timesteps, bounds = (0, Q_pump))\n",
    "    model.SOC = pyo.Var(timesteps, bounds = (0, SOC_max))\n",
    "\n",
    "    # Zielfunktion\n",
    "    def zielfunktion(model):\n",
    "        return sum(model.x[n, t] * MC[n] for n in thermalPlant for t in timesteps)\n",
    "\n",
    "    model.obj = pyo.Objective(rule=zielfunktion, \n",
    "                              sense=pyo.minimize)\n",
    "\n",
    "    def power_constraint_rule(model, n, t):    \n",
    "       return model.x[n,t] <= power[n]\n",
    "    model.power_con = pyo.Constraint(thermalPlant, \n",
    "                                 timesteps, \n",
    "                                 rule = power_constraint_rule)\n",
    "\n",
    "    def load_constraint_rule(model, t):    \n",
    "       return sum(model.x[n,t] for n in thermalPlant) == (load_new.loc[t] + model.q_pump[t] - model.q_turb[t])\n",
    "    model.load_con = pyo.Constraint(timesteps, \n",
    "                                rule = load_constraint_rule)\n",
    "\n",
    "    # q_turb\n",
    "    def qturb_constraint_rule(model, t):  \n",
    "       return model.q_turb[t] <= model.SOC[t-1]\n",
    "\n",
    "    model.qturb_init_con = pyo.Constraint(\n",
    "            expr = (model.q_turb[0] <= SOCstart))\n",
    "\n",
    "    model.qturb_con = pyo.Constraint(timesteps[1:], rule = qturb_constraint_rule)\n",
    "\n",
    "    # SOC\n",
    "    def SOC_constraint_rule(model, t):  \n",
    "       return (model.SOC[t-1] \n",
    "               + model.q_pump[t]*eta_pump \n",
    "               - model.q_turb[t]/eta_turb \n",
    "               - model.SOC[t] == 0)\n",
    "\n",
    "    # Storage equation\n",
    "    model.SOC_init_con = pyo.Constraint(\n",
    "            expr = (SOCstart \n",
    "                    + model.q_pump[0]*eta_pump \n",
    "                    - model.q_turb[0]/eta_turb \n",
    "                    - model.SOC[0] == 0))\n",
    "\n",
    "    model.SOC_con = pyo.Constraint(timesteps[1:], \n",
    "                               rule = SOC_constraint_rule)\n",
    "\n",
    "    model.SOC_end_con = pyo.Constraint(\n",
    "            expr = (model.SOC[T-1] == SOCstart))                           \n",
    "\n",
    "\n",
    "    opt = pyo.SolverFactory('gurobi')\n",
    "    opt_success = opt.solve(model, report_timing=False)\n",
    "    \n",
    "    GesamtKosten_i = sum(model.x[n,t].value * MC[n] for t in timesteps for n in thermalPlant)\n",
    "    GesamtEmissionen_i = sum(emissions[n] * model.x[n, t].value for t in timesteps for n in thermalPlant)\n",
    "    GesamtKosten.append(GesamtKosten_i)\n",
    "    GesamtEmissionen.append(GesamtEmissionen_i)\n",
    "    c_CO2_index.append(c_CO2)\n",
    "#for i in range(len(c_CO2_index)): \n",
    "#    print('%i, %.2f, %.2f' % (c_CO2_index[i], GesamtKosten[i], GesamtEmissionen[i]))"
   ]
  },
  {
   "cell_type": "code",
   "execution_count": 17,
   "metadata": {},
   "outputs": [
    {
     "data": {
      "image/png": "[encoded data removed]",
      "text/plain": [
       "<Figure size 432x288 with 2 Axes>"
      ]
     },
     "metadata": {
      "needs_background": "light"
     },
     "output_type": "display_data"
    }
   ],
   "source": [
    "# show results\n",
    "ax = plt.gca()\n",
    "ax2 = ax.twinx()\n",
    "\n",
    "lns1 = ax2.plot(c_CO2_index, [i/10**6 for i in GesamtKosten], 'g', linewidth = 1.5, label = 'Gesamtkosten')\n",
    "lns2 = ax.plot(c_CO2_index, GesamtEmissionen, 'b',linewidth=1.5, label = 'Gesamtemissionen')\n",
    "\n",
    "ax.set_ylabel(\"CO2-Emissionen [tCO2]\",fontsize=12,color='black')\n",
    "ax2.set_ylabel(\"Gesamtkosten [Mio.€]\",fontsize=12,color='black')\n",
    "ax.set_xlabel('CO2-Zertifikatskosten [€/tCO2]', fontsize=12, color='black')\n",
    "plt.title(\"Auswirkung CO2-Zertifikatspreis\", fontsize=14,color='black')\n",
    "ax.grid(True)\n",
    "# added these three lines\n",
    "lns = lns1+lns2\n",
    "labs = [l.get_label() for l in lns]\n",
    "ax.legend(lns, labs, loc=9, framealpha = 1)\n",
    "#ax.set_yrange()\n",
    "#ax.set_xrange()\n",
    "\n",
    "\n",
    "\n",
    "plt.show()\n",
    "\n",
    "#ax.set(xlabel='CO2-Zertifikatskosten in €/tCO2', ylabel='voltage (mV)',\n",
    "#       title='About as simple as it gets, folks')"
   ]
  },
  {
   "cell_type": "markdown",
   "metadata": {},
   "source": [
    "Der Plot zeigt, dass sich der CO2-Zertifikatspreis sprunghaft auf die Emissionen auswirkt. Der Grund hierfür liegt an der sinkenden Wirtschaftlichkeit der einzelenen Energieerzeuger. Bei einem Zertifikatspreis von ca 19€/tCO2 wird der Speicher unwirtschaftlich. Dieser wird dann nicht mehr verwendet und es kommt zur ersten Absenkung der Gesamt-emissionen. Bei 37€/tCO2 wird das GuD Kraftwerk auf höchster Leistung gefahren. Zur Deckung der Gesamtlast wird dann noch das Kohlekraftwerk verwendet. Folgende drei Plots veranschaulichen diese Szenarien, wobei im ersten Plot der Zertifikatspreis bei 18€/tCO2, im zweiten Plot bei 19€/tCO2 liegt und im dritten Plot bei 37€/tCO2. "
   ]
  },
  {
   "cell_type": "markdown",
   "metadata": {},
   "source": [
    "<img src=\"Aufgabe_3_4_bilder/CO2_Speicher_18.png\" style=\"height: 300px;\"/>\n",
    "<img src=\"Aufgabe_3_4_bilder/CO2_Speicher_19.png\" style=\"height: 300px;\"/>\n",
    "<img src=\"Aufgabe_3_4_bilder/CO2_37.png\" style=\"height: 300px;\"/>"
   ]
  },
  {
   "cell_type": "markdown",
   "metadata": {},
   "source": [
    "Wenn nun der CO2-Zertifikatspreis auf $108$ €$/tCO2$ steigt, wird nun die Gasturbine wirtschaftlicher, das Kohlekraftwerk wird nur noch hinzugeschaltet, wenn die Deckung der Gesamtlast durch die anderen Energieträger nicht aufrecht erhalten werden kann."
   ]
  },
  {
   "cell_type": "markdown",
   "metadata": {},
   "source": [
    "<img src=\"Aufgabe_3_4_bilder/CO2_108.png\" style=\"height: 300px;\"/>"
   ]
  },
  {
   "cell_type": "markdown",
   "metadata": {},
   "source": [
    "Der letzte Plot veranschaulicht, wenn der $CO_2$-Zertifikatspreis auf über $224$ € $/tCO_2$ steigt. In diesem Bereich wird der Speicher wieder wirtschaftlicher und der Betrieb des Kohlekraftwerks wird noch weiter eingeschränkt. "
   ]
  },
  {
   "cell_type": "markdown",
   "metadata": {},
   "source": [
    "<img src=\"Aufgabe_3_4_bilder/CO2_Speicher_224.png\" style=\"height: 300px;\"/>"
   ]
  },
  {
   "cell_type": "markdown",
   "metadata": {},
   "source": [
    "3.4 d.)\n",
    "\n",
    "Damit die THG-Emissionen so hoch sind wie in dem den Szenarien wo die Gesamtemissionen minimiert werden (ohne Speicher), muss der Zertifikatspreis mindestens $108$ €$/tCO_2$ ausmachen. Damit erreicht man eine Gesamtemission von $6901.97$ $tCO_2$. Erst bei einem Zertifikatspreis von $224$ €$/tCO_2$ wird der Betrieb eines Speichers wieder wirtschaflich, sodass man auf Gesamtemissionen von $6774.33$ $tCO_2$ kommt"
   ]
  },
  {
   "cell_type": "raw",
   "metadata": {},
   "source": [
    "### Nicht in Code umwandeln, diente nur der Erzeugung der Plots\n",
    "\n",
    "c_CO2 = 17\n",
    "for n in thermalPlant:\n",
    "    MC[n] = (fuel_price[n] + emission_factor[n] * c_CO2) / efficiency[n]\n",
    "\n",
    "model = pyo.ConcreteModel()\n",
    "\n",
    "model.x = pyo.Var(thermalPlant, timesteps, within=pyo.NonNegativeReals)\n",
    "\n",
    "# Zielfunktion\n",
    "def zielfunktion(model):\n",
    "    return sum(model.x[n, t] * MC[n] for n in thermalPlant for t in timesteps)\n",
    "\n",
    "model.obj = pyo.Objective(rule=zielfunktion, \n",
    "                          sense=pyo.minimize)\n",
    "\n",
    "def power_constraint_rule(model, n, t):    \n",
    "   return model.x[n,t] <= power[n]\n",
    "model.power_con = pyo.Constraint(thermalPlant, \n",
    "                             timesteps, \n",
    "                             rule = power_constraint_rule)\n",
    "\n",
    "def load_constraint_rule(model, t):    \n",
    "   return sum(model.x[n,t] for n in thermalPlant) == load_new.loc[t]\n",
    "model.load_con = pyo.Constraint(timesteps, \n",
    "                            rule = load_constraint_rule)\n",
    "\n",
    "opt = pyo.SolverFactory('gurobi')\n",
    "opt_success = opt.solve(model, report_timing=False)\n",
    "\n",
    "\n",
    "# get values of optimization variables\n",
    "PowerThermalandRenewable = pd.DataFrame(index = timesteps, \n",
    "                                        columns = ['Kohle', \n",
    "                                                   'GuD', \n",
    "                                                   'Gasturbine', \n",
    "                                                   'Erneuerbar']\n",
    "                                        )\n",
    "for t in timesteps:\n",
    "    PowerThermalandRenewable.loc[t, 'Erneuerbar'] = wind[t] + PV_100[t] \n",
    "    for n in thermalPlant:\n",
    "        PowerThermalandRenewable.loc[t, n] = model.x[n,t].value\n",
    "\n",
    "fig, ax = plt.subplots()\n",
    "ax.stackplot(timesteps, \n",
    "              PowerThermalandRenewable.to_numpy(dtype = float).transpose(), \n",
    "              labels=['Kohle', 'GuD', 'Gasturbine', 'Erneuerbar'])\n",
    "\n",
    "ax.legend(loc='upper left')\n",
    "ax.set_ylabel('Erzeugung [MW]')\n",
    "ax.set_xlabel('Tageszeit [h]')\n",
    "ax.set_xlim(xmin=timesteps[0], xmax=timesteps[-1])\n",
    "fig.tight_layout()\n",
    "ax.set_title('36€/tCO2-Zertifikatspreis')\n",
    "#plt.savefig('Aufgabe_3_4_bilder/CO2_36.png', dpi=1200, format='png', bbox_inches='tight')\n",
    "plt.show()\n",
    "\n",
    "# Gesamtkosten\n",
    "GesamtKosten = sum(model.x[n,t].value * MC[n] for t in timesteps for n in thermalPlant)\n",
    "print(\"Die Gesamtkosten der Stromversorgung belaufen sich auf: \" + str(round(GesamtKosten, 2)) + \" €\")\n",
    "# Emissionen:\n",
    "GesamtEmissionen = sum(emissions[n] * model.x[n, t].value for t in timesteps for n in thermalPlant)\n",
    "print(\"Die Gesamtemissionen der Stromerzeugung für diesen Tag betragen \"+str(round(GesamtEmissionen,2))+\" t CO2\")\n"
   ]
  },
  {
   "cell_type": "raw",
   "metadata": {},
   "source": [
    "### Nicht in Code umwandeln, diente nur der Erzeugung der Plots\n",
    "\n",
    "c_CO2 = 224\n",
    "for n in thermalPlant:\n",
    "    MC[n] = (fuel_price[n] + emission_factor[n] * c_CO2) / efficiency[n]\n",
    "\n",
    "model = pyo.ConcreteModel()\n",
    "\n",
    "model.x = pyo.Var(thermalPlant, timesteps, within=pyo.NonNegativeReals)\n",
    "model.q_turb = pyo.Var(timesteps, bounds = (0, Q_turb))\n",
    "model.q_pump = pyo.Var(timesteps, bounds = (0, Q_pump))\n",
    "model.SOC = pyo.Var(timesteps, bounds = (0, SOC_max))\n",
    "\n",
    "# Zielfunktion\n",
    "def zielfunktion(model):\n",
    "    return sum(model.x[n, t] * MC[n] for n in thermalPlant for t in timesteps)\n",
    "\n",
    "model.obj = pyo.Objective(rule=zielfunktion, \n",
    "                          sense=pyo.minimize)\n",
    "\n",
    "def power_constraint_rule(model, n, t):    \n",
    "   return model.x[n,t] <= power[n]\n",
    "model.power_con = pyo.Constraint(thermalPlant, \n",
    "                             timesteps, \n",
    "                             rule = power_constraint_rule)\n",
    "\n",
    "def load_constraint_rule(model, t):    \n",
    "   return sum(model.x[n,t] for n in thermalPlant) == (load_new.loc[t] + model.q_pump[t] - model.q_turb[t])\n",
    "model.load_con = pyo.Constraint(timesteps, \n",
    "                            rule = load_constraint_rule)\n",
    "\n",
    "# q_turb\n",
    "def qturb_constraint_rule(model, t):  \n",
    "   return model.q_turb[t] <= model.SOC[t-1]\n",
    "\n",
    "model.qturb_init_con = pyo.Constraint(\n",
    "        expr = (model.q_turb[0] <= SOCstart))\n",
    "\n",
    "model.qturb_con = pyo.Constraint(timesteps[1:], rule = qturb_constraint_rule)\n",
    "\n",
    "# SOC\n",
    "def SOC_constraint_rule(model, t):  \n",
    "   return (model.SOC[t-1] \n",
    "           + model.q_pump[t]*eta_pump \n",
    "           - model.q_turb[t]/eta_turb \n",
    "           - model.SOC[t] == 0)\n",
    "\n",
    "# Storage equation\n",
    "model.SOC_init_con = pyo.Constraint(\n",
    "        expr = (SOCstart \n",
    "                + model.q_pump[0]*eta_pump \n",
    "                - model.q_turb[0]/eta_turb \n",
    "                - model.SOC[0] == 0))\n",
    "\n",
    "model.SOC_con = pyo.Constraint(timesteps[1:], \n",
    "                           rule = SOC_constraint_rule)\n",
    "\n",
    "model.SOC_end_con = pyo.Constraint(\n",
    "        expr = (model.SOC[T-1] == SOCstart))                           \n",
    "\n",
    "\n",
    "opt = pyo.SolverFactory('gurobi')\n",
    "opt_success = opt.solve(model, report_timing=False)\n",
    "\n",
    "GesamtKosten = sum(model.x[n,t].value * MC[n] for t in timesteps for n in thermalPlant)\n",
    "GesamtEmissionen = sum(emissions[n] * model.x[n, t].value for t in timesteps for n in thermalPlant)\n",
    "\n",
    "\n",
    "# get values of optimization variables\n",
    "PowerThermalandRenewableandStorage = pd.DataFrame(index = timesteps, \n",
    "                                        columns = ['Kohle', \n",
    "                                                   'GuD', \n",
    "                                                   'Gasturbine', \n",
    "                                                   'Erneuerbar',\n",
    "                                                   'Pumpen',\n",
    "                                                   'Turbinieren']\n",
    "                                        )\n",
    "for t in timesteps:\n",
    "    PowerThermalandRenewableandStorage.loc[t, 'Erneuerbar'] = wind[t] + PV_100[t] \n",
    "    PowerThermalandRenewableandStorage.loc[t, 'Pumpen'] = model.q_pump[t].value\n",
    "    PowerThermalandRenewableandStorage.loc[t, 'Turbinieren'] = model.q_turb[t].value\n",
    "    for n in thermalPlant:\n",
    "        PowerThermalandRenewableandStorage.loc[t, n] = model.x[n,t].value\n",
    "\n",
    "fig, ax = plt.subplots()\n",
    "ax.stackplot(timesteps, \n",
    "              PowerThermalandRenewableandStorage.to_numpy(dtype = float).transpose(), \n",
    "              labels=['Kohle', 'GuD', 'Gasturbine', 'Erneuerbar', 'Pumpen', 'Turbinieren'])\n",
    "ax.set_title('')\n",
    "ax.legend(loc='upper right')\n",
    "ax.set_ylabel('Erzeugung [MW]')\n",
    "ax.set_xlim(xmin=timesteps[0], xmax=timesteps[-1])\n",
    "fig.tight_layout()\n",
    "ax.set_title(str(c_CO2) +'€/tCO2-Zertifikatspreis')\n",
    "plt.savefig('Aufgabe_3_4_bilder/CO2_Speicher_' + str(c_CO2) +'.png', dpi=1200, format='png', bbox_inches='tight')\n",
    "plt.show()\n",
    "\n",
    "# Gesamtkosten\n",
    "GesamtKosten = sum(model.x[n,t].value * MC[n] for t in timesteps for n in thermalPlant)\n",
    "print(\"Die Gesamtkosten der Stromversorgung belaufen sich auf: \" + str(round(GesamtKosten, 2)) + \" €\")\n",
    "# Emissionen:\n",
    "GesamtEmissionen = sum(emissions[n] * model.x[n, t].value for t in timesteps for n in thermalPlant)\n",
    "print(\"Die Gesamtemissionen der Stromerzeugung für diesen Tag betragen \"+str(round(GesamtEmissionen,2))+\" t CO2\")"
   ]
  },
  {
   "cell_type": "markdown",
   "metadata": {},
   "source": [
    "## 3.5 - Emissionsschranken und Dualität\n",
    "\n",
    "**a)** CO2 price is set to 0. As a result the MC will decrease.\n",
    "Min CO2 emission of 6901.98 tCO2 is obtained from previous exercise."
   ]
  },
  {
   "cell_type": "code",
   "execution_count": 26,
   "metadata": {},
   "outputs": [
    {
     "name": "stdout",
     "output_type": "stream",
     "text": [
      "        0.01 seconds required to write file\n",
      "        0.02 seconds required for presolve\n",
      "        0.28 seconds required for solver\n",
      "        0.00 seconds required to read logfile \n",
      "        0.01 seconds required to read solution file \n",
      "        0.01 seconds required for postsolve\n",
      "\n",
      "\n",
      "Die Gesamtkosten der Stromversorgung belaufen sich auf: 749478.97 €\n",
      "Die Gesamtemissionen der Stromerzeugung für diesen Tag betragen 6901.98 t CO2\n"
     ]
    }
   ],
   "source": [
    "c_CO2 = 0 # EUR/tCO2\n",
    "MC = {} # marginal costs in EUR/MWh\n",
    "for n in thermalPlant:\n",
    "    MC[n] = (fuel_price[n] + emission_factor[n] * c_CO2) / efficiency[n]\n",
    "\n",
    "\n",
    "# Erneurbare müssen abgenommen werden: load - wind - PV 100 c\n",
    "min_co2_emission = 6901.98 # in tonnen von A3.4\n",
    "load_new = load - wind - PV_100 \n",
    "load_new[load_new < 0] = 0\n",
    "model = pyo.ConcreteModel()\n",
    "\n",
    "model.dual = pyo.Suffix(direction=pyo.Suffix.IMPORT)\n",
    "\n",
    "model.x = pyo.Var(thermalPlant, timesteps, within=pyo.NonNegativeReals)\n",
    "#model.schattenvar = pyo.Suffix()\n",
    "\n",
    "# Zielfunktion\n",
    "def zielfunktion(model):\n",
    "    return sum(model.x[n, t] * MC[n] for n in thermalPlant for t in timesteps)\n",
    "               \n",
    "model.obj = pyo.Objective(rule=zielfunktion, \n",
    "                          sense=pyo.minimize)\n",
    "\n",
    "def power_constraint_rule(model, n, t):    \n",
    "   return model.x[n,t] <= power[n]\n",
    "model.power_con = pyo.Constraint(thermalPlant, \n",
    "                             timesteps, \n",
    "                             rule = power_constraint_rule)\n",
    "\n",
    "def load_constraint_rule(model, t):    \n",
    "   return sum(model.x[n,t] for n in thermalPlant) == load_new.loc[t]\n",
    "model.load_con = pyo.Constraint(timesteps, \n",
    "                            rule = load_constraint_rule)\n",
    "\n",
    "\n",
    "\n",
    "def emission_rule(model):    \n",
    "   return sum(emissions[n] * model.x[n, t] for n in thermalPlant for t in timesteps) <= min_co2_emission\n",
    "model.emission_con = pyo.Constraint(rule = emission_rule)\n",
    "\n",
    "\n",
    "\n",
    "opt = pyo.SolverFactory('gurobi')\n",
    "opt_success = opt.solve(model, report_timing=True)\n",
    "\n",
    "#model.display()\n",
    "print('\\n')\n",
    "print(\"Die Gesamtkosten der Stromversorgung belaufen sich auf: \" + str(round(model.obj(), 2)) + \" €\")\n",
    "# Emisionen:\n",
    "GesamtEmissionen = sum(emissions[n] * model.x[n, t].value for t in timesteps for n in thermalPlant)\n",
    "print(\"Die Gesamtemissionen der Stromerzeugung für diesen Tag betragen \"+str(round(GesamtEmissionen,2))+\" t CO2\")"
   ]
  },
  {
   "cell_type": "markdown",
   "metadata": {},
   "source": [
    "**b) Schattenvariablen**\n",
    "\n",
    "\n",
    "One unit change in the capacity of the **coal power plant** and **gas power plant** will **NOT** lead to any chanage in the costs. The determining power plant is GuD power plant.\n",
    "\n",
    "Below the dual values are displayed:"
   ]
  },
  {
   "cell_type": "code",
   "execution_count": 19,
   "metadata": {},
   "outputs": [
    {
     "name": "stdout",
     "output_type": "stream",
     "text": [
      "Duals\n",
      "   Constraint power_con\n",
      "       ('Kohle', 0) 0.0\n",
      "       ('Kohle', 1) 0.0\n",
      "       ('Kohle', 2) 0.0\n",
      "       ('Kohle', 3) 0.0\n",
      "       ('Kohle', 4) 0.0\n",
      "       ('Kohle', 5) 0.0\n",
      "       ('Kohle', 6) 0.0\n",
      "       ('Kohle', 7) 0.0\n",
      "       ('Kohle', 8) 0.0\n",
      "       ('Kohle', 9) 0.0\n",
      "       ('Kohle', 10) 0.0\n",
      "       ('Kohle', 11) 0.0\n",
      "       ('Kohle', 12) 0.0\n",
      "       ('Kohle', 13) 0.0\n",
      "       ('Kohle', 14) 0.0\n",
      "       ('Kohle', 15) 0.0\n",
      "       ('Kohle', 16) 0.0\n",
      "       ('Kohle', 17) 0.0\n",
      "       ('Kohle', 18) 0.0\n",
      "       ('Kohle', 19) 0.0\n",
      "       ('Kohle', 20) 0.0\n",
      "       ('Kohle', 21) 0.0\n",
      "       ('Kohle', 22) 0.0\n",
      "       ('Kohle', 23) 0.0\n",
      "       ('GuD', 0) -36.11771700356718\n",
      "       ('GuD', 1) -36.11771700356718\n",
      "       ('GuD', 2) -36.11771700356718\n",
      "       ('GuD', 3) -36.11771700356718\n",
      "       ('GuD', 4) -36.11771700356718\n",
      "       ('GuD', 5) -36.11771700356718\n",
      "       ('GuD', 6) -36.11771700356718\n",
      "       ('GuD', 7) -36.11771700356718\n",
      "       ('GuD', 8) -36.11771700356718\n",
      "       ('GuD', 9) -36.11771700356718\n",
      "       ('GuD', 10) -36.11771700356718\n",
      "       ('GuD', 11) -36.11771700356718\n",
      "       ('GuD', 12) -36.11771700356718\n",
      "       ('GuD', 13) -36.11771700356718\n",
      "       ('GuD', 14) -36.11771700356718\n",
      "       ('GuD', 15) -36.11771700356718\n",
      "       ('GuD', 16) -36.11771700356718\n",
      "       ('GuD', 17) -36.11771700356718\n",
      "       ('GuD', 18) -36.11771700356718\n",
      "       ('GuD', 19) -36.11771700356718\n",
      "       ('GuD', 20) -36.11771700356718\n",
      "       ('GuD', 21) -36.11771700356718\n",
      "       ('GuD', 22) -36.11771700356718\n",
      "       ('GuD', 23) -36.11771700356718\n",
      "       ('Gasturbine', 0) 0.0\n",
      "       ('Gasturbine', 1) 0.0\n",
      "       ('Gasturbine', 2) 0.0\n",
      "       ('Gasturbine', 3) 0.0\n",
      "       ('Gasturbine', 4) 0.0\n",
      "       ('Gasturbine', 5) 0.0\n",
      "       ('Gasturbine', 6) 0.0\n",
      "       ('Gasturbine', 7) 0.0\n",
      "       ('Gasturbine', 8) 0.0\n",
      "       ('Gasturbine', 9) 0.0\n",
      "       ('Gasturbine', 10) 0.0\n",
      "       ('Gasturbine', 11) 0.0\n",
      "       ('Gasturbine', 12) 0.0\n",
      "       ('Gasturbine', 13) 0.0\n",
      "       ('Gasturbine', 14) 0.0\n",
      "       ('Gasturbine', 15) 0.0\n",
      "       ('Gasturbine', 16) 0.0\n",
      "       ('Gasturbine', 17) 0.0\n",
      "       ('Gasturbine', 18) 0.0\n",
      "       ('Gasturbine', 19) 0.0\n",
      "       ('Gasturbine', 20) 0.0\n",
      "       ('Gasturbine', 21) 0.0\n",
      "       ('Gasturbine', 22) 0.0\n",
      "       ('Gasturbine', 23) 0.0\n",
      "   Constraint load_con\n",
      "       0 116.37931034482759\n",
      "       1 116.37931034482759\n",
      "       2 116.37931034482759\n",
      "       3 116.37931034482759\n",
      "       4 116.37931034482759\n",
      "       5 116.37931034482759\n",
      "       6 116.37931034482759\n",
      "       7 116.37931034482759\n",
      "       8 116.37931034482759\n",
      "       9 116.37931034482759\n",
      "       10 116.37931034482759\n",
      "       11 116.37931034482759\n",
      "       12 116.37931034482759\n",
      "       13 116.37931034482759\n",
      "       14 116.37931034482759\n",
      "       15 116.37931034482759\n",
      "       16 116.37931034482759\n",
      "       17 116.37931034482759\n",
      "       18 116.37931034482759\n",
      "       19 116.37931034482759\n",
      "       20 116.37931034482759\n",
      "       21 116.37931034482759\n",
      "       22 116.37931034482759\n",
      "       23 116.37931034482759\n",
      "   Constraint emission_con\n",
      "       None -107.75862068965517\n"
     ]
    }
   ],
   "source": [
    "# display all duals\n",
    "print (\"Duals\")\n",
    "for c in model.component_objects(pyo.Constraint, active=True):\n",
    "    print (\"   Constraint\",c)\n",
    "    for index in c:\n",
    "        print (\"      \", index, model.dual[c[index]])"
   ]
  },
  {
   "cell_type": "markdown",
   "metadata": {},
   "source": [
    "**c) Zusammenhang zwischen dualer Variable der Emissionsbeschränkung und dem CO2-Preis**\n",
    "\n",
    "Setting a limit for the emission led to increase of the overall generation costs even compared to exercise 2.\n",
    "In case of CO2 price of 0 EUR/tCO2, by increase of emission limit, coal will be used further and therefore, the overal generation costs will decrease. The increase of CO2 prices however, can cancel out the impact of increase in the emission limits.\n",
    "\n",
    "**Conclusion**: the increase of CO2 prices can function as a limiting leverage for increase of emissions and will lead to lower utilization of plants with higher emissions.\n",
    "\n",
    "As an example, below we increased the CO2 p\n",
    "prices to 300EUR/tCO2 and also ten-folded the upper limit of the emissions. However, as shown in the results, the emissions stick to minimum value as of the above case.\n"
   ]
  },
  {
   "cell_type": "code",
   "execution_count": 28,
   "metadata": {},
   "outputs": [
    {
     "name": "stdout",
     "output_type": "stream",
     "text": [
      "        0.01 seconds required to write file\n",
      "        0.02 seconds required for presolve\n",
      "        0.28 seconds required for solver\n",
      "        0.00 seconds required to read logfile \n",
      "        0.00 seconds required to read solution file \n",
      "        0.01 seconds required for postsolve\n",
      "\n",
      "\n",
      "Die Gesamtkosten der Stromversorgung belaufen sich auf: 2820071.66 €\n",
      "Die Gesamtemissionen der Stromerzeugung für diesen Tag betragen 6901.97 t CO2\n"
     ]
    }
   ],
   "source": [
    "c_CO2 = 300 # EUR/tCO2\n",
    "MC = {} # marginal costs in EUR/MWh\n",
    "for n in thermalPlant:\n",
    "    MC[n] = (fuel_price[n] + emission_factor[n] * c_CO2) / efficiency[n]\n",
    "\n",
    "\n",
    "# Erneurbare müssen abgenommen werden: load - wind - PV 100 c\n",
    "min_co2_emission = 100*6901.98 # in tonnen von A3.4\n",
    "load_new = load - wind - PV_100 \n",
    "load_new[load_new < 0] = 0\n",
    "model = pyo.ConcreteModel()\n",
    "\n",
    "model.dual = pyo.Suffix(direction=pyo.Suffix.IMPORT)\n",
    "\n",
    "model.x = pyo.Var(thermalPlant, timesteps, within=pyo.NonNegativeReals)\n",
    "#model.schattenvar = pyo.Suffix()\n",
    "\n",
    "# Zielfunktion\n",
    "def zielfunktion(model):\n",
    "    return sum(model.x[n, t] * MC[n] for n in thermalPlant for t in timesteps)\n",
    "               \n",
    "model.obj = pyo.Objective(rule=zielfunktion, \n",
    "                          sense=pyo.minimize)\n",
    "\n",
    "def power_constraint_rule(model, n, t):    \n",
    "   return model.x[n,t] <= power[n]\n",
    "model.power_con = pyo.Constraint(thermalPlant, \n",
    "                             timesteps, \n",
    "                             rule = power_constraint_rule)\n",
    "\n",
    "def load_constraint_rule(model, t):    \n",
    "   return sum(model.x[n,t] for n in thermalPlant) == load_new.loc[t]\n",
    "model.load_con = pyo.Constraint(timesteps, \n",
    "                            rule = load_constraint_rule)\n",
    "\n",
    "\n",
    "\n",
    "def emission_rule(model):    \n",
    "   return sum(emissions[n] * model.x[n, t] for n in thermalPlant for t in timesteps) <= min_co2_emission\n",
    "model.emission_con = pyo.Constraint(rule = emission_rule)\n",
    "\n",
    "\n",
    "\n",
    "opt = pyo.SolverFactory('gurobi')\n",
    "opt_success = opt.solve(model, report_timing=True)\n",
    "\n",
    "#model.display()\n",
    "print('\\n')\n",
    "print(\"Die Gesamtkosten der Stromversorgung belaufen sich auf: \" + str(round(model.obj(), 2)) + \" €\")\n",
    "# Emisionen:\n",
    "GesamtEmissionen = sum(emissions[n] * model.x[n, t].value for t in timesteps for n in thermalPlant)\n",
    "print(\"Die Gesamtemissionen der Stromerzeugung für diesen Tag betragen \"+str(round(GesamtEmissionen,2))+\" t CO2\")"
   ]
  }
 ],
 "metadata": {
  "kernelspec": {
   "display_name": "Python 3",
   "language": "python",
   "name": "python3"
  },
  "language_info": {
   "codemirror_mode": {
    "name": "ipython",
    "version": 3
   },
   "file_extension": ".py",
   "mimetype": "text/x-python",
   "name": "python",
   "nbconvert_exporter": "python",
   "pygments_lexer": "ipython3",
   "version": "3.7.6"
  }
 },
 "nbformat": 4,
 "nbformat_minor": 4
}
