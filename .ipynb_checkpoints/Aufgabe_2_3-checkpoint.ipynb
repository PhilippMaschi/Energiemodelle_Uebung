{
 "cells": [
  {
   "cell_type": "code",
   "execution_count": 23,
   "metadata": {},
   "outputs": [],
   "source": [
    "from pyomo.environ import *\n",
    "import numpy as np\n",
    "import pandas as pd\n",
    "import matplotlib.pyplot as plt\n",
    "import seaborn as sns"
   ]
  },
  {
   "cell_type": "code",
   "execution_count": 24,
   "metadata": {},
   "outputs": [],
   "source": [
    "# Zielfunktion definition\n",
    "c = [8,10,7,6,11,9]\n",
    "A = [[12,9,25,20,17,13],\n",
    "     [35,42,18,31,56,49],\n",
    "     [37,53,28,24,29,20]]\n",
    "b = [60,150,125]"
   ]
  },
  {
   "cell_type": "code",
   "execution_count": 13,
   "metadata": {},
   "outputs": [],
   "source": [
    "def Zielfunktion(var, c, n):\n",
    "    expr = 0\n",
    "    for i in range(n): \n",
    "        expr = expr + c[i] * var[i]\n",
    "    return expr\n",
    "\n",
    "def Nebenbedingungen(A, var, j, b):\n",
    "    expr = 0\n",
    "    for i in range(6): \n",
    "        expr = expr + A[j][i] * var[i]\n",
    "    return expr >= b[j]"
   ]
  },
  {
   "cell_type": "markdown",
   "metadata": {},
   "source": [
    "# Aufgabe 2.3.b"
   ]
  },
  {
   "cell_type": "code",
   "execution_count": 28,
   "metadata": {},
   "outputs": [
    {
     "name": "stdout",
     "output_type": "stream",
     "text": [
      "x0= 1.000\n",
      "x1= 0.623\n",
      "x2= 0.343\n",
      "x3= 1.000\n",
      "x4= 0.048\n",
      "x5= 1.000\n"
     ]
    }
   ],
   "source": [
    "# Pyomo Modell LP aufstellen\n",
    "\n",
    "model = ConcreteModel()\n",
    "\n",
    "# how to implement in a forloop? \n",
    "#model.J = Set(initialize=range(6))\n",
    "#model.x = Var(model.J, domain=NonNegativeReals)\n",
    "model.x0 = Var(bounds = (0, 1))\n",
    "model.x1 = Var(bounds = (0, 1))\n",
    "model.x2 = Var(bounds = (0, 1))\n",
    "model.x3 = Var(bounds = (0, 1))\n",
    "model.x4 = Var(bounds = (0, 1))\n",
    "model.x5 = Var(bounds = (0, 1))\n",
    "model_var = [model.x0, model.x1, model.x2, model.x3, model.x4, model.x5]\n",
    "model.obj = Objective(expr = (Zielfunktion(model_var, c, 6)), sense=minimize)\n",
    "model.Constraint1 = Constraint(expr= (Nebenbedingungen(A, model_var, 0, b)))\n",
    "model.Constraint2 = Constraint(expr= (Nebenbedingungen(A, model_var, 1, b)))\n",
    "model.Constraint3 = Constraint(expr= (Nebenbedingungen(A, model_var, 2, b)))\n",
    "\n",
    "opt = SolverFactory('gurobi')\n",
    "opt_success = opt.solve(model)\n",
    "#model.display()\n",
    "for i in range(6):\n",
    "    print('x'+str(i) + '= %.3f' % (model_var[i].value))"
   ]
  },
  {
   "cell_type": "markdown",
   "metadata": {},
   "source": [
    "# Aufgabe 2.3.b kompakter"
   ]
  },
  {
   "cell_type": "code",
   "execution_count": 11,
   "metadata": {},
   "outputs": [],
   "source": [
    "# Pyomo functions\n",
    "#def obj_expression(m):\n",
    "    return summation(m.c, m.x)\n",
    "\n",
    "# Pyomo Modell smaller aufstellen\n",
    "\n",
    "model = ConcreteModel()\n",
    "\n",
    "model.m = RangeSet(6)\n",
    "model.n = RangeSet(3)\n",
    "model.K = Param(model.m, within=PositiveReals)\n",
    "model.a = Param(model.m, model.n, within= NonNegativeReals)\n",
    "\n",
    "#model.I = RangeSet(1, model.m)\n",
    "#model.J = RangeSet(1, model.n)\n",
    "\n",
    "#model.a = pyo.Param(model.I, model.J)\n",
    "#model.b = pyo.Param(model.I)\n",
    "#model.c = pyo.Param(model.J)\n",
    "\n",
    "#model.x = Var(model.I, domain=NonNegativeReals)\n",
    "#model.OBJ =  Objective(rule=obj_expression)\n",
    "#model.obj = Objective(expr = (Zielfunktion(model.x, c, 6)), sense=minimize)\n",
    "#model.Constraint1 = Constraint(expr= (Nebenbedingungen(A, model_var, 0, b)))\n",
    "#model.Constraint2 = Constraint(expr= (Nebenbedingungen(A, model_var, 1, b)))\n",
    "#model.Constraint3 = Constraint(expr= (Nebenbedingungen(A, model_var, 2, b)))\n",
    "\n",
    "#opt = SolverFactory('gurobi')\n",
    "#opt_success = opt.solve(model)\n",
    "#model.display()\n",
    "#for i in range(6):\n",
    "#    print('x'+str(i) + '= %.3f' % (model_var[i].value))"
   ]
  },
  {
   "cell_type": "markdown",
   "metadata": {},
   "source": [
    "# Aufgabe 2.3.c"
   ]
  },
  {
   "cell_type": "code",
   "execution_count": 29,
   "metadata": {},
   "outputs": [
    {
     "name": "stdout",
     "output_type": "stream",
     "text": [
      "x0= 1.000\n",
      "x1= 1.000\n",
      "x2= 1.000\n",
      "x3= -0.000\n",
      "x4= 1.000\n",
      "x5= -0.000\n"
     ]
    }
   ],
   "source": [
    "# Pyomo Modell MILP aufstellen\n",
    "\n",
    "model = ConcreteModel()\n",
    "\n",
    "# how to implement in a forloop? \n",
    "#model.J = Set(initialize=range(6))\n",
    "#model.x = Var(model.J, domain=NonNegativeReals)\n",
    "model.x0 = Var(bounds = (0, 1),within=Binary)\n",
    "model.x1 = Var(bounds = (0, 1),within=Binary)\n",
    "model.x2 = Var(bounds = (0, 1),within=Binary)\n",
    "model.x3 = Var(bounds = (0, 1),within=Binary)\n",
    "model.x4 = Var(bounds = (0, 1),within=Binary)\n",
    "model.x5 = Var(bounds = (0, 1),within=Binary)\n",
    "model_var = [model.x0, model.x1, model.x2, model.x3, model.x4, model.x5]\n",
    "#model.obj = Objective(expr = (c[0] * model.x0 + c[1] * model.x1 + c[2] * model.x2 + \n",
    "#                             c[3] * model.x3 + c[4] * model.x4 + c[5] * model.x5), sense=minimize)\n",
    "model.obj = Objective(expr = (Zielfunktion(model_var, c, 6)), sense=minimize)\n",
    "model.Constraint1 = Constraint(expr= (Nebenbedingungen(A, model_var, 0, b)))\n",
    "model.Constraint2 = Constraint(expr= (Nebenbedingungen(A, model_var, 1, b)))\n",
    "model.Constraint3 = Constraint(expr= (Nebenbedingungen(A, model_var, 2, b)))\n",
    "\n",
    "opt = SolverFactory('gurobi')\n",
    "opt_success = opt.solve(model)\n",
    "#model.display()\n",
    "for i in range(6):\n",
    "    print('x'+str(i) + '= %.3f' % (model_var[i].value))"
   ]
  },
  {
   "cell_type": "markdown",
   "metadata": {},
   "source": [
    "# Aufgabe 2.3.d"
   ]
  },
  {
   "cell_type": "code",
   "execution_count": 33,
   "metadata": {},
   "outputs": [
    {
     "name": "stdout",
     "output_type": "stream",
     "text": [
      "WARNING: Loading a SolverResults object with a warning status into\n",
      "    model.name=\"\";\n",
      "      - termination condition: infeasible\n",
      "      - message from solver: Model was proven to be infeasible.\n"
     ]
    },
    {
     "ename": "TypeError",
     "evalue": "must be real number, not NoneType",
     "output_type": "error",
     "traceback": [
      "\u001b[1;31m---------------------------------------------------------------------------\u001b[0m",
      "\u001b[1;31mTypeError\u001b[0m                                 Traceback (most recent call last)",
      "\u001b[1;32m<ipython-input-33-e919630671ce>\u001b[0m in \u001b[0;36m<module>\u001b[1;34m\u001b[0m\n\u001b[0;32m     26\u001b[0m \u001b[1;31m#model.display()\u001b[0m\u001b[1;33m\u001b[0m\u001b[1;33m\u001b[0m\u001b[1;33m\u001b[0m\u001b[0m\n\u001b[0;32m     27\u001b[0m \u001b[1;32mfor\u001b[0m \u001b[0mi\u001b[0m \u001b[1;32min\u001b[0m \u001b[0mrange\u001b[0m\u001b[1;33m(\u001b[0m\u001b[1;36m6\u001b[0m\u001b[1;33m)\u001b[0m\u001b[1;33m:\u001b[0m\u001b[1;33m\u001b[0m\u001b[1;33m\u001b[0m\u001b[0m\n\u001b[1;32m---> 28\u001b[1;33m     \u001b[0mprint\u001b[0m\u001b[1;33m(\u001b[0m\u001b[1;34m'x'\u001b[0m\u001b[1;33m+\u001b[0m\u001b[0mstr\u001b[0m\u001b[1;33m(\u001b[0m\u001b[0mi\u001b[0m\u001b[1;33m)\u001b[0m \u001b[1;33m+\u001b[0m \u001b[1;34m'= %.3f'\u001b[0m \u001b[1;33m%\u001b[0m \u001b[1;33m(\u001b[0m\u001b[0mmodel_var\u001b[0m\u001b[1;33m[\u001b[0m\u001b[0mi\u001b[0m\u001b[1;33m]\u001b[0m\u001b[1;33m.\u001b[0m\u001b[0mvalue\u001b[0m\u001b[1;33m)\u001b[0m\u001b[1;33m)\u001b[0m\u001b[1;33m\u001b[0m\u001b[1;33m\u001b[0m\u001b[0m\n\u001b[0m",
      "\u001b[1;31mTypeError\u001b[0m: must be real number, not NoneType"
     ]
    }
   ],
   "source": [
    "# Pyomo Modell MILP aufstellen mit entweder/oder maßnahmen\n",
    "\n",
    "model = ConcreteModel()\n",
    "\n",
    "# how to implement in a forloop? \n",
    "#model.J = Set(initialize=range(6))\n",
    "#model.x = Var(model.J, domain=NonNegativeReals)\n",
    "model.name = \"\"\n",
    "model.x0 = Var(bounds = (0, 1),within=Binary)\n",
    "model.x1 = Var(bounds = (0, 1),within=Binary)\n",
    "model.x2 = Var(bounds = (0, 1),within=Binary)\n",
    "model.x3 = Var(bounds = (0, 1),within=Binary)\n",
    "model.x4 = Var(bounds = (0, 1),within=Binary)\n",
    "model.x5 = Var(bounds = (0, 1),within=Binary)\n",
    "model_var = [model.x0, model.x1, model.x2, model.x3, model.x4, model.x5]\n",
    "model.obj = Objective(expr = (Zielfunktion(model_var, c, 6)), sense=minimize)\n",
    "model.Constraint1 = Constraint(expr= (Nebenbedingungen(A, model_var, 0, b)))\n",
    "model.Constraint2 = Constraint(expr= (Nebenbedingungen(A, model_var, 1, b)))\n",
    "model.Constraint3 = Constraint(expr= (Nebenbedingungen(A, model_var, 2, b)))\n",
    "model.Constraint4 = Constraint(expr = (model.x0 + model.x1 <=1))\n",
    "model.Constraint5 = Constraint(expr = (model.x2 + model.x3 <=1))\n",
    "model.Constraint6 = Constraint(expr = (model.x4 + model.x5 <=1))\n",
    "\n",
    "opt = SolverFactory('gurobi')\n",
    "opt_success = opt.solve(model)\n",
    "#model.display()\n",
    "for i in range(6):\n",
    "    print('x'+str(i) + '= %.3f' % (model_var[i].value))"
   ]
  },
  {
   "cell_type": "markdown",
   "metadata": {},
   "source": [
    "Letztes Modell kann nicht gelöst werden. "
   ]
  }
 ],
 "metadata": {
  "kernelspec": {
   "display_name": "Python 3",
   "language": "python",
   "name": "python3"
  },
  "language_info": {
   "codemirror_mode": {
    "name": "ipython",
    "version": 3
   },
   "file_extension": ".py",
   "mimetype": "text/x-python",
   "name": "python",
   "nbconvert_exporter": "python",
   "pygments_lexer": "ipython3",
   "version": "3.8.3"
  }
 },
 "nbformat": 4,
 "nbformat_minor": 5
}
