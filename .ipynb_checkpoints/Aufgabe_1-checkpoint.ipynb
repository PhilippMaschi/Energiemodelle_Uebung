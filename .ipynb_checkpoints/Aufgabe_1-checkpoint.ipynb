{
 "cells": [
  {
   "cell_type": "markdown",
   "metadata": {},
   "source": [
    "# 1.1 Modellierung der Wärmenachfrage eines Fernwärmenetzes mittel linearer Regression\n"
   ]
  },
  {
   "cell_type": "code",
   "execution_count": 1,
   "metadata": {},
   "outputs": [],
   "source": [
    "%matplotlib inline\n",
    "import pandas as pd\n",
    "import numpy as np\n",
    "from pathlib import Path\n",
    "import matplotlib.pyplot as plt\n",
    "from scipy import stats, optimize\n",
    "from IPython.display import display, Latex\n",
    "from sklearn.linear_model import LinearRegression\n",
    "from sklearn.metrics import r2_score,  mean_squared_error\n",
    "import seaborn as sns"
   ]
  },
  {
   "cell_type": "code",
   "execution_count": 2,
   "metadata": {},
   "outputs": [],
   "source": [
    "demand_path = Path(\"__file__\").parent.resolve()\n",
    "demand_path = demand_path / \"ENTSOE_countries\" / \"Demand\"\n",
    "demand_filename = \"AT_2019.csv\"\n",
    "waermenachfrage_filename = \"Waermenachfrage_Uebung1.xlsx\"\n",
    "file = demand_path / demand_filename\n",
    "\n",
    "df_demand = pd.read_csv(file)\n",
    "df_waermenachfrage = pd.read_excel(waermenachfrage_filename, engine = 'openpyxl')"
   ]
  },
  {
   "cell_type": "code",
   "execution_count": 3,
   "metadata": {},
   "outputs": [
    {
     "data": {
      "text/html": [
       "<div>\n",
       "<style scoped>\n",
       "    .dataframe tbody tr th:only-of-type {\n",
       "        vertical-align: middle;\n",
       "    }\n",
       "\n",
       "    .dataframe tbody tr th {\n",
       "        vertical-align: top;\n",
       "    }\n",
       "\n",
       "    .dataframe thead th {\n",
       "        text-align: right;\n",
       "    }\n",
       "</style>\n",
       "<table border=\"1\" class=\"dataframe\">\n",
       "  <thead>\n",
       "    <tr style=\"text-align: right;\">\n",
       "      <th></th>\n",
       "      <th>Zeit</th>\n",
       "      <th>Monat</th>\n",
       "      <th>Tag</th>\n",
       "      <th>Stunde</th>\n",
       "      <th>Temp</th>\n",
       "      <th>Nachfrage</th>\n",
       "      <th>Feiertage</th>\n",
       "      <th>Wochentag</th>\n",
       "    </tr>\n",
       "  </thead>\n",
       "  <tbody>\n",
       "    <tr>\n",
       "      <th>0</th>\n",
       "      <td>2007-10-01 01:00:01</td>\n",
       "      <td>10</td>\n",
       "      <td>1</td>\n",
       "      <td>1</td>\n",
       "      <td>11.6288</td>\n",
       "      <td>7.909745</td>\n",
       "      <td>0</td>\n",
       "      <td>2</td>\n",
       "    </tr>\n",
       "    <tr>\n",
       "      <th>1</th>\n",
       "      <td>2007-10-01 02:00:01</td>\n",
       "      <td>10</td>\n",
       "      <td>1</td>\n",
       "      <td>2</td>\n",
       "      <td>11.3327</td>\n",
       "      <td>8.046135</td>\n",
       "      <td>0</td>\n",
       "      <td>2</td>\n",
       "    </tr>\n",
       "    <tr>\n",
       "      <th>2</th>\n",
       "      <td>2007-10-01 03:00:01</td>\n",
       "      <td>10</td>\n",
       "      <td>1</td>\n",
       "      <td>3</td>\n",
       "      <td>10.8108</td>\n",
       "      <td>8.104064</td>\n",
       "      <td>0</td>\n",
       "      <td>2</td>\n",
       "    </tr>\n",
       "    <tr>\n",
       "      <th>3</th>\n",
       "      <td>2007-10-01 04:00:01</td>\n",
       "      <td>10</td>\n",
       "      <td>1</td>\n",
       "      <td>4</td>\n",
       "      <td>10.3233</td>\n",
       "      <td>8.795061</td>\n",
       "      <td>0</td>\n",
       "      <td>2</td>\n",
       "    </tr>\n",
       "    <tr>\n",
       "      <th>4</th>\n",
       "      <td>2007-10-01 05:00:01</td>\n",
       "      <td>10</td>\n",
       "      <td>1</td>\n",
       "      <td>5</td>\n",
       "      <td>9.9904</td>\n",
       "      <td>10.192541</td>\n",
       "      <td>0</td>\n",
       "      <td>2</td>\n",
       "    </tr>\n",
       "    <tr>\n",
       "      <th>...</th>\n",
       "      <td>...</td>\n",
       "      <td>...</td>\n",
       "      <td>...</td>\n",
       "      <td>...</td>\n",
       "      <td>...</td>\n",
       "      <td>...</td>\n",
       "      <td>...</td>\n",
       "      <td>...</td>\n",
       "    </tr>\n",
       "    <tr>\n",
       "      <th>8779</th>\n",
       "      <td>2008-09-30 20:00:01</td>\n",
       "      <td>9</td>\n",
       "      <td>30</td>\n",
       "      <td>20</td>\n",
       "      <td>15.4673</td>\n",
       "      <td>12.406460</td>\n",
       "      <td>0</td>\n",
       "      <td>3</td>\n",
       "    </tr>\n",
       "    <tr>\n",
       "      <th>8780</th>\n",
       "      <td>2008-09-30 21:00:01</td>\n",
       "      <td>9</td>\n",
       "      <td>30</td>\n",
       "      <td>21</td>\n",
       "      <td>14.9188</td>\n",
       "      <td>12.693875</td>\n",
       "      <td>0</td>\n",
       "      <td>3</td>\n",
       "    </tr>\n",
       "    <tr>\n",
       "      <th>8781</th>\n",
       "      <td>2008-09-30 22:00:01</td>\n",
       "      <td>9</td>\n",
       "      <td>30</td>\n",
       "      <td>22</td>\n",
       "      <td>14.3348</td>\n",
       "      <td>12.210588</td>\n",
       "      <td>0</td>\n",
       "      <td>3</td>\n",
       "    </tr>\n",
       "    <tr>\n",
       "      <th>8782</th>\n",
       "      <td>2008-09-30 23:00:01</td>\n",
       "      <td>9</td>\n",
       "      <td>30</td>\n",
       "      <td>23</td>\n",
       "      <td>13.9884</td>\n",
       "      <td>9.258651</td>\n",
       "      <td>0</td>\n",
       "      <td>3</td>\n",
       "    </tr>\n",
       "    <tr>\n",
       "      <th>8783</th>\n",
       "      <td>2008-10-01 00:00:01</td>\n",
       "      <td>10</td>\n",
       "      <td>1</td>\n",
       "      <td>0</td>\n",
       "      <td>13.2498</td>\n",
       "      <td>8.798517</td>\n",
       "      <td>0</td>\n",
       "      <td>4</td>\n",
       "    </tr>\n",
       "  </tbody>\n",
       "</table>\n",
       "<p>8784 rows × 8 columns</p>\n",
       "</div>"
      ],
      "text/plain": [
       "                    Zeit  Monat  Tag  Stunde     Temp  Nachfrage  Feiertage  \\\n",
       "0    2007-10-01 01:00:01     10    1       1  11.6288   7.909745          0   \n",
       "1    2007-10-01 02:00:01     10    1       2  11.3327   8.046135          0   \n",
       "2    2007-10-01 03:00:01     10    1       3  10.8108   8.104064          0   \n",
       "3    2007-10-01 04:00:01     10    1       4  10.3233   8.795061          0   \n",
       "4    2007-10-01 05:00:01     10    1       5   9.9904  10.192541          0   \n",
       "...                  ...    ...  ...     ...      ...        ...        ...   \n",
       "8779 2008-09-30 20:00:01      9   30      20  15.4673  12.406460          0   \n",
       "8780 2008-09-30 21:00:01      9   30      21  14.9188  12.693875          0   \n",
       "8781 2008-09-30 22:00:01      9   30      22  14.3348  12.210588          0   \n",
       "8782 2008-09-30 23:00:01      9   30      23  13.9884   9.258651          0   \n",
       "8783 2008-10-01 00:00:01     10    1       0  13.2498   8.798517          0   \n",
       "\n",
       "      Wochentag  \n",
       "0             2  \n",
       "1             2  \n",
       "2             2  \n",
       "3             2  \n",
       "4             2  \n",
       "...         ...  \n",
       "8779          3  \n",
       "8780          3  \n",
       "8781          3  \n",
       "8782          3  \n",
       "8783          4  \n",
       "\n",
       "[8784 rows x 8 columns]"
      ]
     },
     "execution_count": 3,
     "metadata": {},
     "output_type": "execute_result"
    }
   ],
   "source": [
    "df_waermenachfrage"
   ]
  },
  {
   "cell_type": "code",
   "execution_count": 4,
   "metadata": {},
   "outputs": [],
   "source": [
    "nachfrage = df_waermenachfrage.loc[:, \"Nachfrage\"].to_numpy()\n",
    "temperatur = df_waermenachfrage.loc[:, \"Temp\"].to_numpy()"
   ]
  },
  {
   "cell_type": "code",
   "execution_count": 5,
   "metadata": {},
   "outputs": [
    {
     "data": {
      "image/png": "[encoded data removed]",
      "text/plain": [
       "<Figure size 432x288 with 1 Axes>"
      ]
     },
     "metadata": {
      "needs_background": "light"
     },
     "output_type": "display_data"
    }
   ],
   "source": [
    "plt.scatter(temperatur, nachfrage, alpha=0.2, facecolors='none', edgecolors='b')\n",
    "plt.xlabel(\"Temperatur °C\")\n",
    "plt.ylabel(\"Nachfrage MW\")\n",
    "plt.grid()"
   ]
  },
  {
   "cell_type": "markdown",
   "metadata": {},
   "source": [
    "Einfache Regression:\n",
    "$$y_t = b_0 + b_1 * T_0$$"
   ]
  },
  {
   "cell_type": "code",
   "execution_count": 6,
   "metadata": {},
   "outputs": [
    {
     "data": {
      "text/latex": [
       "R-squared: 0.809534"
      ],
      "text/plain": [
       "<IPython.core.display.Latex object>"
      ]
     },
     "metadata": {},
     "output_type": "display_data"
    },
    {
     "data": {
      "text/latex": [
       "P-value: 0.000000"
      ],
      "text/plain": [
       "<IPython.core.display.Latex object>"
      ]
     },
     "metadata": {},
     "output_type": "display_data"
    },
    {
     "data": {
      "text/latex": [
       "$b_0$: 26.818651"
      ],
      "text/plain": [
       "<IPython.core.display.Latex object>"
      ]
     },
     "metadata": {},
     "output_type": "display_data"
    },
    {
     "data": {
      "text/latex": [
       "$b_1$: -1.102223"
      ],
      "text/plain": [
       "<IPython.core.display.Latex object>"
      ]
     },
     "metadata": {},
     "output_type": "display_data"
    },
    {
     "data": {
      "text/latex": [
       "$sqrt(Var(b_1))$: 0.005705"
      ],
      "text/plain": [
       "<IPython.core.display.Latex object>"
      ]
     },
     "metadata": {},
     "output_type": "display_data"
    },
    {
     "data": {
      "text/latex": [
       "$sqrt(Var(b_0))$: 0.077027"
      ],
      "text/plain": [
       "<IPython.core.display.Latex object>"
      ]
     },
     "metadata": {},
     "output_type": "display_data"
    },
    {
     "data": {
      "image/png": "[encoded data removed]",
      "text/plain": [
       "<Figure size 432x288 with 1 Axes>"
      ]
     },
     "metadata": {
      "needs_background": "light"
     },
     "output_type": "display_data"
    }
   ],
   "source": [
    "regression = stats.linregress(temperatur, nachfrage)\n",
    "display(Latex(f\"R-squared: {regression.rvalue**2:.6f}\"))\n",
    "display(Latex(f\"P-value: {regression.pvalue:.6f}\"))\n",
    "display(Latex(f\"$b_{0}$: {regression.intercept:.6f}\"))\n",
    "display(Latex(f\"$b_{1}$: {regression.slope:.6f}\"))\n",
    "display(Latex(f\"$sqrt(Var(b_{1}))$: {regression.stderr:.6f}\"))\n",
    "display(Latex(f\"$sqrt(Var(b_{0}))$: {regression.intercept_stderr:.6f}\"))\n",
    "plt.scatter(temperatur, nachfrage, alpha=0.2, facecolors='none', edgecolors='b')\n",
    "plt.xlabel(\"Temperatur °C\")\n",
    "plt.ylabel(\"Nachfrage MW\")\n",
    "plt.plot(temperatur, regression.intercept + regression.slope*temperatur, 'r', label='fitted line')\n",
    "plt.legend()\n",
    "plt.grid()"
   ]
  },
  {
   "cell_type": "markdown",
   "metadata": {},
   "source": [
    "c) <br>\n",
    "Liegt der P-Wert unter 0.05, so ist der Koeffizient einer Variable im Modell signifikant.<br>\n",
    "Da der P-Wert bei uns = 0 ist, bedeuted das, dass die Temperatur einen signifikanten Einfluss auf die Nachfrage hat. <br>\n",
    "\n",
    "Der t-Wert ergibt sich aus \n",
    "\\begin{equation}\n",
    "t(b_i)=\\frac{b_i - \\beta}{Var(b_i)}\n",
    "\\end{equation}\n",
    "$\\beta$ ist der Schätzer der Nullhypothese $H_0$ und entspricht dem Wert 0. Somit berechnet sich der $t-Wert$ von $b_1$ zu $-193.2$ und von $b_2$ zu $348.2$.Da der t-Wert weit entfernt vom Schätzer der Nullhyphotese ist, kann diese verworfen werden.\n",
    "\n",
    "<br>\n",
    "$R^2$ ist der Determinationskoeffizient. Er gibt an wie sehr die Varianz der abhängigen Variable durch die erklärende Variable erklärt wird. Werte für $R^2$ liegen immer zwischen 0 und 1. Umso näher der Wert bei 1 liegt, umso besser nähert sich das Model den real gemessenen Werten an. In unserem Fall, mit $R^2 = 81\\% $ bedeuted es, dass die Variable \"Temperatur\" 81% der Nachfragewerte erklärt. <br>\n",
    "\n",
    "<br>\n",
    "Nullhypothese:<br>\n",
    "Die Nullhypothese kann nicht verifiziert sondern nur falsifizert werden. Wenn der P-Wert sehr \"klein\" ist, kann man die Nullhypothese ablehnen. <br>\n",
    "In unserem Fall ist die Nullhypothese: \"Die Nachfrage ist nicht abhängig von der Temperatur.\"\n",
    "<br>\n",
    "Insgesamt gibt es $8785$ Messwerte. Da die Freiheitsgrade einer Statistik, immer die Anzahl der Messpunkte minus den zu bestimmenden Parametern entspricht, so haben wir in diesem Modell $8783$ Freiheitsgrade."
   ]
  },
  {
   "cell_type": "code",
   "execution_count": null,
   "metadata": {},
   "outputs": [],
   "source": []
  },
  {
   "cell_type": "markdown",
   "metadata": {},
   "source": [
    "Vergeich zu sklearn:"
   ]
  },
  {
   "cell_type": "code",
   "execution_count": 7,
   "metadata": {},
   "outputs": [],
   "source": [
    "# transforming the data to include another axis\n",
    "#x = temperatur[:, np.newaxis]\n",
    "#y = nachfrage[:, np.newaxis]\n",
    "\n",
    "#model = LinearRegression()\n",
    "#model.fit(x, y)\n",
    "#y_pred = model.predict(x)\n",
    "\n",
    "\n",
    "\n",
    "#plt.scatter(x, y, alpha=0.2, facecolors='none', edgecolors='b')\n",
    "#plt.plot(x, y_pred, color='r', label='fitted line')\n",
    "#plt.xlabel(\"Temperatur °C\")\n",
    "#plt.ylabel(\"Nachfrage MW\")\n",
    "#plt.legend()\n",
    "#plt.grid()"
   ]
  },
  {
   "cell_type": "markdown",
   "metadata": {},
   "source": [
    "Regression mit Polynom 3.ten Grades:\n",
    "$$y_t = b_0 + b_1 * T_1 + b_2 * h_t + b_3 * h_t^2 +b_4 * h_t^3 $$"
   ]
  },
  {
   "cell_type": "code",
   "execution_count": 8,
   "metadata": {},
   "outputs": [
    {
     "data": {
      "text/plain": [
       "<AxesSubplot:xlabel='Stunde', ylabel='Nachfrage'>"
      ]
     },
     "execution_count": 8,
     "metadata": {},
     "output_type": "execute_result"
    },
    {
     "data": {
      "image/png": "[encoded data removed]",
      "text/plain": [
       "<Figure size 432x288 with 1 Axes>"
      ]
     },
     "metadata": {
      "needs_background": "light"
     },
     "output_type": "display_data"
    }
   ],
   "source": [
    "h_t = df_waermenachfrage.loc[:, \"Stunde\"]\n",
    "nachfrage = df_waermenachfrage.loc[:, \"Nachfrage\"]\n",
    "data_1 = pd.concat([h_t, nachfrage],axis=1)\n",
    "\n",
    "sns.boxplot(x = \"Stunde\", y=\"Nachfrage\", data= data_1)\n",
    "#plt.xlabel(\"Zeit\")\n",
    "#plt.ylabel(\"Nachfrage MW\")\n",
    "#plt.grid()"
   ]
  },
  {
   "cell_type": "code",
   "execution_count": 9,
   "metadata": {},
   "outputs": [],
   "source": [
    "def function_1(data, b0, b1, b2, b3, b4):\n",
    "    return b0 + b1*data[0]+ b2*data[1] + b3*data[1]**2 + b4*data[1]**3"
   ]
  },
  {
   "cell_type": "code",
   "execution_count": 10,
   "metadata": {},
   "outputs": [],
   "source": [
    "data = ([temperatur, h_t])\n",
    "opt, cov = optimize.curve_fit(function_1, data, nachfrage)"
   ]
  },
  {
   "cell_type": "code",
   "execution_count": 11,
   "metadata": {},
   "outputs": [
    {
     "data": {
      "text/latex": [
       "$b_0$:22.374836"
      ],
      "text/plain": [
       "<IPython.core.display.Latex object>"
      ]
     },
     "metadata": {},
     "output_type": "display_data"
    },
    {
     "data": {
      "text/latex": [
       "$b_1$:-1.174532"
      ],
      "text/plain": [
       "<IPython.core.display.Latex object>"
      ]
     },
     "metadata": {},
     "output_type": "display_data"
    },
    {
     "data": {
      "text/latex": [
       "$b_2$:0.213884"
      ],
      "text/plain": [
       "<IPython.core.display.Latex object>"
      ]
     },
     "metadata": {},
     "output_type": "display_data"
    },
    {
     "data": {
      "text/latex": [
       "$b_3$:0.076774"
      ],
      "text/plain": [
       "<IPython.core.display.Latex object>"
      ]
     },
     "metadata": {},
     "output_type": "display_data"
    },
    {
     "data": {
      "text/latex": [
       "$b_4$:-0.003492"
      ],
      "text/plain": [
       "<IPython.core.display.Latex object>"
      ]
     },
     "metadata": {},
     "output_type": "display_data"
    }
   ],
   "source": [
    "display(Latex(f\"$b_{0}$:{opt[0]:.6f}\"))\n",
    "display(Latex(f\"$b_{1}$:{opt[1]:.6f}\"))\n",
    "display(Latex(f\"$b_{2}$:{opt[2]:.6f}\"))\n",
    "display(Latex(f\"$b_{3}$:{opt[3]:.6f}\"))\n",
    "display(Latex(f\"$b_{4}$:{opt[4]:.6f}\"))\n",
    "perr = np.sqrt(np.diag(cov))"
   ]
  },
  {
   "cell_type": "markdown",
   "metadata": {},
   "source": [
    "Die Standardabweichungen der einzelnen Parameter entsprechen:"
   ]
  },
  {
   "cell_type": "code",
   "execution_count": 14,
   "metadata": {},
   "outputs": [
    {
     "data": {
      "text/latex": [
       "$\\sqrt var(b_0)$:0.136118"
      ],
      "text/plain": [
       "<IPython.core.display.Latex object>"
      ]
     },
     "metadata": {},
     "output_type": "display_data"
    },
    {
     "data": {
      "text/latex": [
       "$\\sqrt var(b_1)$:0.004561"
      ],
      "text/plain": [
       "<IPython.core.display.Latex object>"
      ]
     },
     "metadata": {},
     "output_type": "display_data"
    },
    {
     "data": {
      "text/latex": [
       "$\\sqrt var(b_2)$:0.049616"
      ],
      "text/plain": [
       "<IPython.core.display.Latex object>"
      ]
     },
     "metadata": {},
     "output_type": "display_data"
    },
    {
     "data": {
      "text/latex": [
       "$\\sqrt var(b_3)$:0.005107"
      ],
      "text/plain": [
       "<IPython.core.display.Latex object>"
      ]
     },
     "metadata": {},
     "output_type": "display_data"
    },
    {
     "data": {
      "text/latex": [
       "$\\sqrt var(b_4)$:0.000146"
      ],
      "text/plain": [
       "<IPython.core.display.Latex object>"
      ]
     },
     "metadata": {},
     "output_type": "display_data"
    }
   ],
   "source": [
    "display(Latex(f\"$\\sqrt var(b_{0})$:{perr[0]:.6f}\"))\n",
    "display(Latex(f\"$\\sqrt var(b_{1})$:{perr[1]:.6f}\"))\n",
    "display(Latex(f\"$\\sqrt var(b_{2})$:{perr[2]:.6f}\"))\n",
    "display(Latex(f\"$\\sqrt var(b_{3})$:{perr[3]:.6f}\"))\n",
    "display(Latex(f\"$\\sqrt var(b_{4})$:{perr[4]:.6f}\"))"
   ]
  },
  {
   "cell_type": "markdown",
   "metadata": {},
   "source": [
    "Daraus ergeben sich wiederum die t-Werte unter Annahme der Nullhypothese $H_0$: "
   ]
  },
  {
   "cell_type": "code",
   "execution_count": 15,
   "metadata": {},
   "outputs": [
    {
     "data": {
      "text/latex": [
       "$t(b_0)$:164.378464"
      ],
      "text/plain": [
       "<IPython.core.display.Latex object>"
      ]
     },
     "metadata": {},
     "output_type": "display_data"
    },
    {
     "data": {
      "text/latex": [
       "$t(b_1)$:-257.538297"
      ],
      "text/plain": [
       "<IPython.core.display.Latex object>"
      ]
     },
     "metadata": {},
     "output_type": "display_data"
    },
    {
     "data": {
      "text/latex": [
       "$t(b_2)$:4.310802"
      ],
      "text/plain": [
       "<IPython.core.display.Latex object>"
      ]
     },
     "metadata": {},
     "output_type": "display_data"
    },
    {
     "data": {
      "text/latex": [
       "$t(b_3)$:15.032861"
      ],
      "text/plain": [
       "<IPython.core.display.Latex object>"
      ]
     },
     "metadata": {},
     "output_type": "display_data"
    },
    {
     "data": {
      "text/latex": [
       "$t(b_4)$:-23.897745"
      ],
      "text/plain": [
       "<IPython.core.display.Latex object>"
      ]
     },
     "metadata": {},
     "output_type": "display_data"
    }
   ],
   "source": [
    "t_werte = opt/perr\n",
    "display(Latex(f\"$t(b_{0})$:{t_werte[0]:.6f}\"))\n",
    "display(Latex(f\"$t(b_{1})$:{t_werte[1]:.6f}\"))\n",
    "display(Latex(f\"$t(b_{2})$:{t_werte[2]:.6f}\"))\n",
    "display(Latex(f\"$t(b_{3})$:{t_werte[3]:.6f}\"))\n",
    "display(Latex(f\"$t(b_{4})$:{t_werte[4]:.6f}\"))"
   ]
  },
  {
   "cell_type": "markdown",
   "metadata": {},
   "source": [
    "Das Bestimmtheitsmaß ist ein Gütemaß der linearen Regression und dient eigentlich nicht als Gütemaß bei eines nichtlinearen Fit. Nichtsdestotrotz enspricht der R^2 Wert hier: "
   ]
  },
  {
   "cell_type": "code",
   "execution_count": 16,
   "metadata": {},
   "outputs": [
    {
     "data": {
      "text/latex": [
       "$R^2$=0.885581"
      ],
      "text/plain": [
       "<IPython.core.display.Latex object>"
      ]
     },
     "metadata": {},
     "output_type": "display_data"
    }
   ],
   "source": [
    "R_2 = sum((linie-np.mean(nachfrage))**2)/sum((nachfrage - np.mean(nachfrage))**2)\n",
    "display(Latex(f\"$R^{2}$={R_2:.6f}\"))"
   ]
  },
  {
   "cell_type": "markdown",
   "metadata": {},
   "source": [
    "Somit beschreibt dieses Modell unsere Nachfrage besser als das lineare Modell. "
   ]
  },
  {
   "cell_type": "code",
   "execution_count": 12,
   "metadata": {},
   "outputs": [],
   "source": [
    "\n",
    "linie = function_1(data, opt[0], opt[1], opt[2], opt[3], opt[4])\n"
   ]
  },
  {
   "cell_type": "code",
   "execution_count": 13,
   "metadata": {},
   "outputs": [
    {
     "data": {
      "text/plain": [
       "<matplotlib.legend.Legend at 0x170210d8bb0>"
      ]
     },
     "execution_count": 13,
     "metadata": {},
     "output_type": "execute_result"
    },
    {
     "data": {
      "image/png": "[encoded data removed]",
      "text/plain": [
       "<Figure size 432x288 with 1 Axes>"
      ]
     },
     "metadata": {
      "needs_background": "light"
     },
     "output_type": "display_data"
    }
   ],
   "source": [
    "plt.plot(linie, label=\"regression\")\n",
    "plt.plot(nachfrage, alpha=0.5, label=\"real\")\n",
    "plt.legend()"
   ]
  },
  {
   "cell_type": "markdown",
   "metadata": {},
   "source": [
    "Modell 3"
   ]
  },
  {
   "cell_type": "code",
   "execution_count": 17,
   "metadata": {},
   "outputs": [
    {
     "name": "stdout",
     "output_type": "stream",
     "text": [
      "Für Stunde 0 beträgt b_0= 21.498538 und b_1= -0.994402. Das Bestimmtheitsmaß beträgt 0.927203\n",
      "Für Stunde 1 beträgt b_0= 21.284146 und b_1= -1.018228. Das Bestimmtheitsmaß beträgt 0.924408\n",
      "Für Stunde 2 beträgt b_0= 21.501871 und b_1= -1.058290. Das Bestimmtheitsmaß beträgt 0.924869\n",
      "Für Stunde 3 beträgt b_0= 21.810618 und b_1= -1.096958. Das Bestimmtheitsmaß beträgt 0.922130\n",
      "Für Stunde 4 beträgt b_0= 22.638799 und b_1= -1.160629. Das Bestimmtheitsmaß beträgt 0.926320\n",
      "Für Stunde 5 beträgt b_0= 24.948538 und b_1= -1.288817. Das Bestimmtheitsmaß beträgt 0.925060\n",
      "Für Stunde 6 beträgt b_0= 30.313237 und b_1= -1.565600. Das Bestimmtheitsmaß beträgt 0.919358\n",
      "Für Stunde 7 beträgt b_0= 32.513835 und b_1= -1.658584. Das Bestimmtheitsmaß beträgt 0.911542\n",
      "Für Stunde 8 beträgt b_0= 32.195898 und b_1= -1.589896. Das Bestimmtheitsmaß beträgt 0.917352\n",
      "Für Stunde 9 beträgt b_0= 31.499577 und b_1= -1.486253. Das Bestimmtheitsmaß beträgt 0.922885\n",
      "Für Stunde 10 beträgt b_0= 30.337651 und b_1= -1.358132. Das Bestimmtheitsmaß beträgt 0.919526\n",
      "Für Stunde 11 beträgt b_0= 29.442326 und b_1= -1.255967. Das Bestimmtheitsmaß beträgt 0.910420\n",
      "Für Stunde 12 beträgt b_0= 28.807459 und b_1= -1.172428. Das Bestimmtheitsmaß beträgt 0.904219\n",
      "Für Stunde 13 beträgt b_0= 28.559487 und b_1= -1.109519. Das Bestimmtheitsmaß beträgt 0.896673\n",
      "Für Stunde 14 beträgt b_0= 28.573331 und b_1= -1.073758. Das Bestimmtheitsmaß beträgt 0.892053\n",
      "Für Stunde 15 beträgt b_0= 28.753121 und b_1= -1.054321. Das Bestimmtheitsmaß beträgt 0.888296\n",
      "Für Stunde 16 beträgt b_0= 29.235306 und b_1= -1.058179. Das Bestimmtheitsmaß beträgt 0.887333\n",
      "Für Stunde 17 beträgt b_0= 29.973512 und b_1= -1.080798. Das Bestimmtheitsmaß beträgt 0.888343\n",
      "Für Stunde 18 beträgt b_0= 30.320551 und b_1= -1.090658. Das Bestimmtheitsmaß beträgt 0.890741\n",
      "Für Stunde 19 beträgt b_0= 29.756508 und b_1= -1.076983. Das Bestimmtheitsmaß beträgt 0.900467\n",
      "Für Stunde 20 beträgt b_0= 29.241898 und b_1= -1.095359. Das Bestimmtheitsmaß beträgt 0.912258\n",
      "Für Stunde 21 beträgt b_0= 28.556620 und b_1= -1.127965. Das Bestimmtheitsmaß beträgt 0.924304\n",
      "Für Stunde 22 beträgt b_0= 26.778458 und b_1= -1.128576. Das Bestimmtheitsmaß beträgt 0.937202\n",
      "Für Stunde 23 beträgt b_0= 22.009168 und b_1= -0.962979. Das Bestimmtheitsmaß beträgt 0.935646\n"
     ]
    }
   ],
   "source": [
    "parameters_stunden = []\n",
    "\n",
    "for i in range(24):\n",
    "    temperatur = df_waermenachfrage[df_waermenachfrage['Stunde']==i]['Temp']\n",
    "    nachfrage = df_waermenachfrage[df_waermenachfrage['Stunde']==i]['Nachfrage']\n",
    "    regression = stats.linregress(temperatur, nachfrage)\n",
    "    parameters_stunden.append(regression)\n",
    "    print(\"Für Stunde %i beträgt b_0= %.6f und b_1= %.6f. Das Bestimmtheitsmaß beträgt %.6f\" % (i, regression.intercept, regression.slope, regression.rvalue**2))\n"
   ]
  },
  {
   "cell_type": "markdown",
   "metadata": {},
   "source": [
    "Die größten Unterschiede können ausgemacht werde zwischen Stunde 0 und Stunde 7 wo die Parameter der Funktion $y_i=b_0 + T_i * b_1$ wie vorhin erwähnt betragen (kann man das irgendwie gemütlich eingliedern?). Die Bestimmtheitsmaße zu den jeweiligen Stunden treffen besser zu als zu den vorherigen Modellen. Besonders zu den Nachtstunden, da der Wärmebedarf weniger an den Alltag der Nutzer geknüpft ist (oder so irgendwie) "
   ]
  }
 ],
 "metadata": {
  "kernelspec": {
   "display_name": "Python 3",
   "language": "python",
   "name": "python3"
  },
  "language_info": {
   "codemirror_mode": {
    "name": "ipython",
    "version": 3
   },
   "file_extension": ".py",
   "mimetype": "text/x-python",
   "name": "python",
   "nbconvert_exporter": "python",
   "pygments_lexer": "ipython3",
   "version": "3.9.2"
  }
 },
 "nbformat": 4,
 "nbformat_minor": 4
}
