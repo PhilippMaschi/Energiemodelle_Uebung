{
 "cells": [
  {
   "cell_type": "markdown",
   "metadata": {},
   "source": [
    "# Aufgabe 3"
   ]
  },
  {
   "cell_type": "markdown",
   "metadata": {},
   "source": [
    "## 3.1 Fossile Erzeugung"
   ]
  },
  {
   "cell_type": "code",
   "execution_count": 3,
   "metadata": {},
   "outputs": [],
   "source": [
    "import pyomo.environ as pyo\n",
    "import numpy as np\n",
    "import pandas as pd\n",
    "import matplotlib.pyplot as plt\n",
    "import seaborn as sns\n",
    "\n",
    "T = 24\n",
    "timesteps = np.arange(T)\n",
    "\n",
    "c_CO2 = 7 # EUR/tCO2\n",
    "\n",
    "# Marginal costs der thermischen Kraftwerke berechnen\n",
    "thermalPlant = ['Kohle', 'GuD', 'Gasturbine']\n",
    "power = {'Kohle': 600,\n",
    "         'GuD': 400,\n",
    "         'Gasturbine': 300} # MW\n",
    "efficiency = {'Kohle': 0.41,\n",
    "         'GuD': 0.58,\n",
    "         'Gasturbine': 0.4} \n",
    "fuel_price = {'Kohle': 10,\n",
    "         'GuD': 25,\n",
    "         'Gasturbine': 25} # EUR/MWhprim\n",
    "emission_factor = {'Kohle': 0.35,\n",
    "         'GuD': 0.2,\n",
    "         'Gasturbine': 0.2} # tCO2/MWhprim\n",
    "MC = {} # marginal costs in EUR/MWh\n",
    "emissions = {} # emissions in tCO2/MWh\n",
    "for n in thermalPlant:\n",
    "    MC[n] = (fuel_price[n] + emission_factor[n] * c_CO2) / efficiency[n]\n",
    "    emissions[n] = emission_factor[n] / efficiency[n]\n",
    "    \n",
    "# Daten laden\n",
    "df = pd.read_excel('Last_PV_Wind.xlsx')\n",
    "load = df['Last Sommer [MW]'] # hier nach Gruppennummer Sommer/Winter eingeben\n",
    "wind = df['Wind 300 MW']\n",
    "PV_100 = df['PV 100 MW Sommer']\n",
    "PV_200 = df['PV 200 MW Sommer']"
   ]
  },
  {
   "cell_type": "code",
   "execution_count": null,
   "metadata": {},
   "outputs": [],
   "source": []
  },
  {
   "cell_type": "code",
   "execution_count": null,
   "metadata": {},
   "outputs": [],
   "source": []
  },
  {
   "cell_type": "code",
   "execution_count": null,
   "metadata": {},
   "outputs": [],
   "source": []
  },
  {
   "cell_type": "code",
   "execution_count": null,
   "metadata": {},
   "outputs": [],
   "source": []
  },
  {
   "cell_type": "code",
   "execution_count": null,
   "metadata": {},
   "outputs": [],
   "source": []
  },
  {
   "cell_type": "code",
   "execution_count": null,
   "metadata": {},
   "outputs": [],
   "source": []
  },
  {
   "cell_type": "code",
   "execution_count": null,
   "metadata": {},
   "outputs": [],
   "source": []
  },
  {
   "cell_type": "code",
   "execution_count": null,
   "metadata": {},
   "outputs": [],
   "source": []
  }
 ],
 "metadata": {
  "kernelspec": {
   "display_name": "Python 3",
   "language": "python",
   "name": "python3"
  },
  "language_info": {
   "codemirror_mode": {
    "name": "ipython",
    "version": 3
   },
   "file_extension": ".py",
   "mimetype": "text/x-python",
   "name": "python",
   "nbconvert_exporter": "python",
   "pygments_lexer": "ipython3",
   "version": "3.8.3"
  }
 },
 "nbformat": 4,
 "nbformat_minor": 4
}
